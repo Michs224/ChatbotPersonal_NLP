{
 "cells": [
  {
   "cell_type": "code",
   "execution_count": 1,
   "metadata": {},
   "outputs": [],
   "source": [
    "from nltk.tokenize import word_tokenize\n",
    "from nltk.corpus import stopwords\n",
    "from nltk.stem import WordNetLemmatizer\n",
    "from nltk.tag import pos_tag\n",
    "import string\n",
    "import numpy as np\n",
    "import pickle\n",
    "import textdistance"
   ]
  },
  {
   "cell_type": "code",
   "execution_count": 2,
   "metadata": {},
   "outputs": [],
   "source": [
    "# Load model\n",
    "from keras.models import load_model\n",
    "\n",
    "model=load_model(\"./Model/Model_Chatbot_Personal_2.h5\")\n",
    "import json\n",
    "import random\n",
    "\n",
    "with open(\"./Dataset/intents.json\",encoding=\"utf-8\") as file:\n",
    "    intents=json.load(file)\n",
    "with open(\"./Dataset/words.pkl\",\"rb\") as file:\n",
    "    words=pickle.load(file)\n",
    "with open(\"./Dataset/classes.pkl\",\"rb\") as file:\n",
    "    classes=pickle.load(file)\n",
    "    \n",
    "# print(open(\"./Dataset/intents.json\").read())\n",
    "# intents2=json.loads(open(\"./Dataset/intents.json\",encoding=\"utf-8\").read())"
   ]
  },
  {
   "cell_type": "code",
   "execution_count": 3,
   "metadata": {},
   "outputs": [],
   "source": [
    "# print(intents)\n",
    "# print(intents2)"
   ]
  },
  {
   "cell_type": "code",
   "execution_count": 4,
   "metadata": {},
   "outputs": [
    {
     "name": "stdout",
     "output_type": "stream",
     "text": [
      "['hi', 'u', 'yu', 'hello', 'helo', 'hw', 'yo', 'hw', 'ar', 'anyone', 'hey', 'hola', 'good', 'day', 'hai', 'hei', 'ello', 'bye', 'see', 'later', 'goodbye', 'nice', 'chat', 'bye', 'till', 'next', 'time', 'thanks', 'thank', \"'s\", 'helpful', 'awesome', 'thanks', 'thanks', 'help', 'woww', 'thanks', 'abcdefghi', 'oqieo', 'wdmds', 'blablabalba', 'ckckck', 'ralwklkkww', 'pqfinwf', 'wecbwebinfg', 'dws', 'wswksowkawao', 'dd', 'idujaw', 'could', 'help', 'help', 'provide', 'helpful', 'support', 'offer', 'check', 'adverse', 'drug', 'reaction', 'open', 'adverse', 'drug', 'module', 'give', 'list', 'drug', 'cause', 'adverse', 'behavior', 'list', 'drug', 'suitable', 'patient', 'adverse', 'reaction', 'drug', 'dont', 'adverse', 'reaction', 'open', 'blood', 'pressure', 'module', 'task', 'relate', 'blood', 'pressure', 'blood', 'pressure', 'data', 'entry', 'want', 'log', 'blood', 'pressure', 'result', 'blood', 'pressure', 'data', 'management', 'want', 'search', 'blood', 'pressure', 'result', 'history', 'blood', 'pressure', 'patient', 'load', 'patient', 'blood', 'pressure', 'result', 'show', 'blood', 'pressure', 'result', 'patient', 'find', 'blood', 'pressure', 'result', 'id', 'find', 'pharmacy', 'find', 'pharmacy', 'list', 'pharmacy', 'nearby', 'locate', 'pharmacy', 'search', 'pharmacy', 'lookup', 'hospital', 'search', 'hospital', 'transfer', 'patient', 'want', 'search', 'hospital', 'data', 'hospital', 'lookup', 'patient', 'look', 'hospital', 'detail', 'okay', 'feel', 'today', 'feeling', 'ill', 'need', 'help', 'hope', 'tell', \"'s\", 'bother', 'something', 'bother', \"'m\", 'ear', 'get', 'something', 'say', 'like', \"'s\", 'one', 'like', 'one', 'million', 'helpful', 'amazing', 'please', 'talk', 'please', 'help', \"'m\", 'lose', 'sad', \"'m\", 'sad', 'today', 'something', 'make', 'feel', 'happy', 'rough', 'day', 'today', 'useless', 'good-for-nothing', 'chatbot', 'stupid', 'totally', 'cringe', 'rude', 'mad', 'mess', 'make', 'mistake', 'get', 'wrong', 'hobby', 'like', 'someone', 'boyfriend', 'girlfriend', 'like', 'favourite', 'movie', \"'s\", 'favourite', 'song', 'aim', 'life', 'think', \"'ll\", 'ever', 'get', 'marry', 'think', \"'ll\", 'ever', 'get', 'girlfriend', 'boyfriend', 'think', \"'ll\", 'ever', 'find', 'love', 'anyone', 'ever', 'like', 'ever', 'find', 'happiness', 'always', 'alone', 'life', 'get', 'good', 'difference', 'classification', 'regression', 'difference', 'classification', 'regression', 'classification', 'regression', '‘', 'training', 'set', '’', '‘', 'test', 'set', '’', 'machine', 'learn', 'model', 'training', 'set', 'test', 'set', 'explain', 'ensemble', 'learn', 'ensemble', 'learn', 'ensemble', 'learn', 'define', 'ensemble', 'learn', 'model', 'suffer', 'low', 'bias', 'high', 'variance', 'model', 'suffer', 'low', 'bias', 'high', 'variance', 'low', 'bias', 'high', 'variance', 'explain', 'difference', 'random', 'forest', 'gradient', 'boost', 'algorithm', 'random', 'forest', 'gradient', 'boost', 'algorithm', 'difference', 'random', 'forest', 'gradient', 'boost', 'algorithm', 'neural', 'network', 'neural', 'network', 'define', 'neural', 'network', 'deep', 'learning', 'deep', 'learning', 'define', 'deep', 'learning', 'dep', 'lrning', 'deep', 'lrning', 'difference', 'data', 'processing', 'data', 'preprocessing', 'data', 'wrangle', 'data', 'process', 'data', 'preprocessing', 'data', 'wrangle', 'difference', 'data', 'process', 'data', 'preprocessing', 'data', 'wrangle', 'three', 'stage', 'build', 'model', 'machine', 'learn', 'stage', 'build', 'model', 'machine', 'learn', 'stage', 'build', 'model', 'machine', 'learn', 'building', 'model', 'machine', 'learn', 'know', 'machine', 'learn', 'algorithm', 'choose', 'classification', 'problem', 'machine', 'learn', 'algorithm', 'choose', 'classification', 'problem', 'bias', 'machine', 'learn', 'model', 'bias', 'machine', 'learn', 'model', 'bias', 'ml', 'variance', 'machine', 'learn', 'model', 'variance', 'machine', 'learn', 'model', 'variance', 'difference', 'machine', 'learn', 'deep', 'learning', 'difference', 'machine', 'learn', 'deep', 'learning', 'machine', 'learn', 'deep', 'learning', 'define', 'precision', 'recall', 'precision', 'recall', 'precision', 'recall', 'parametric', 'non-parametric', 'model', 'parametric', 'non-parametric', 'model', 'define', 'parametric', 'non-parametric', 'model', 'supervise', 'learn', 'supervise', 'learn', 'define', 'supervise', 'learn', 'type', 'supervise', 'learn', 'type', 'supervise', 'learn', 'classification', 'algorithm', 'classification', 'algorithms', 'classification', 'classification', 'define', 'classification', 'give', 'example', 'classification', 'example', 'classification', 'regression', 'regression', 'define', 'regression', 'give', 'example', 'regression', 'examples', 'regression', 'four', 'type', 'classification', 'task', 'machine', 'learn', 'type', 'classification', 'task', 'machine', 'learn', 'classification', 'task', 'machine', 'learn', 'binary', 'classification', 'binary', 'classification', 'define', 'binary', 'classification', 'distribution', 'use', 'commonly', 'model', 'binary', 'classification', 'task', 'distribution', 'commonly', 'use', 'model', 'binary', 'classification', 'task', 'popular', 'algorithm', 'use', 'binary', 'classification', 'popular', 'algorithm', 'use', 'binary', 'classification', 'multi-class', 'classification', 'define', 'multi-class', 'classification', 'multi-class', 'classification', 'probability', 'distribution', 'commonly', 'use', 'model', 'multi-class', 'classification', 'task', 'probability', 'distribution', 'commonly', 'use', 'model', 'multi-class', 'classification', 'task', 'popular', 'algorithm', 'use', 'multi-class', 'classification', 'popular', 'algorithm', 'use', 'multi-class', 'classification', 'multi-label', 'classification', 'multi-label', 'classification', 'define', 'multi-label', 'classification', 'mean', 'imbalanced', 'classification', 'imbalanced', 'classification', 'define', 'imbalanced', 'classification', 'use', 'regression', 'analysis', 'use', 'regression', 'analysis', 'type', 'regression', 'type', 'regression', 'function', 'supervise', 'learn', 'function', 'supervise', 'learn', 'accord', 'standard', 'approach', 'supervise', 'learn', 'standard', 'approach', 'supervise', 'learn', 'describe', 'classifier', 'machine', 'learn', 'classifier', 'classifier', 'machine', 'learn', 'svm', 'machine', 'learn', 'svm', 'machine', 'learn', 'define', 'svm', 'machine', 'learn', 'support', 'vector', 'machine', 'classification', 'method', 'svm', 'handle', 'classification', 'method', 'svm', 'handle', 'understand', 'confusion', 'matrix', 'mean', 'confusion', 'matrix', 'confusion', 'matrix', 'confusion', 'matrix', 'explain', 'true', 'positive', 'true', 'negative', 'false', 'positive', 'false', 'negative', 'confusion', 'matrix', 'explain', 'true', 'positive', 'true', 'negative', 'false', 'positive', 'false', 'negative', 'explain', 'true', 'positive', 'explain', 'true', 'negative', 'explain', 'false', 'positive', 'explain', 'false', 'negative', 'defnition', 'machine', 'learn', 'mean', 'ml', 'meaning', 'ml', 'machine', 'learn', 'ml', 'machine', 'learn', 'machine', 'lrning', 'mching', 'learn', 'defnition', 'deep', 'learning', 'mean', 'dl', 'mean', 'dl', 'deep', 'learning', 'dl', 'difference', 'data', 'mining', 'machine', 'learn', 'machine', 'learn', 'data', 'mine', 'distinguish', 'data', 'mining', 'ml', 'defnition', 'overfitting', 'mean', 'overfitting', 'mean', 'overfitting', 'overfitting', 'overfitting', 'machine', 'learn', 'overfitting', 'happens', 'possibility', 'overfitting', 'avoid', 'overfitting', 'avoid', 'overfitting', 'cross', 'validation', 'technique', 'idea', 'cross', 'validation', 'defnition', 'inductive', 'machine', 'learn', 'mean', 'inductive', 'ml', 'mean', 'inductive', 'ml', 'inductive', 'machine', 'learn', 'different', 'algorithms', 'machine', 'learn', 'algorithms', 'machine', 'learn', 'list', 'algorithms', 'machine', 'learn', 'different', 'algorithm', 'technique', 'machine', 'learn', 'algorithms', 'technique', 'machine', 'learn', 'list', 'algorithm', 'technique', 'machine', 'learn', 'defnition', 'algorithm', 'independent', 'machine', 'learn', 'mean', 'algorithm', 'independent', 'ml', 'mean', 'algorithm', 'independent', 'ml', 'algorithm', 'independent', 'machine', 'learn', 'algorithm', 'independent', 'ml', 'difference', 'artificial', 'learning', 'machine', 'learn', 'artificial', 'learning', 'machine', 'learn', 'distinguish', 'artificial', 'learn', 'ml', 'defnition', 'classifier', 'machine', 'learn', 'mean', 'classifier', 'ml', 'mean', 'classifier', 'ml', 'classifier', 'ml', 'defnition', 'model', 'selection', 'machine', 'learn', 'mean', 'model', 'selection', 'ml', 'mean', 'model', 'selection', 'machine', 'learn', 'model', 'selection', 'ml', 'different', 'approach', 'machine', 'learn', 'approach', 'machine', 'learn', 'list', 'approach', 'ml', 'defnition', 'dimension', 'reduction', 'machine', 'learn', 'mean', 'dimension', 'reduction', 'ml', 'dimension', 'reduction', 'machine', 'learn', 'explain', 'dimension', 'reduction', 'machine', 'learn', 'process', 'reduce', 'size', 'feature', 'matrix', 'defnition', 'inductive', 'logic', 'program', 'machine', 'learn', 'mean', 'inductive', 'logic', 'program', 'ml', 'inductive', 'logic', 'program', 'machine', 'learn', 'explain', 'inductive', 'logic', 'program', 'machine', 'learn', 'defnition', 'unsupervised', 'learn', 'mean', 'unsupervised', 'learn', 'meaning', 'unsupervised', 'learning', 'unsupervised', 'learn', 'example', 'unsupervised', 'learn', 'algorithm', 'give', 'example', 'unsupervised', 'learn', 'algorithm', 'provide', 'example', 'unsupervised', 'learn', 'algorithm', 'use', 'unsupervised', 'learning', 'use', 'unsupervised', 'learning', 'use', 'unsupervised', 'learn', 'type', 'unsupervised', 'learn', 'type', 'unsupervised', 'learn', 'kind', 'unsupervised', 'learn', 'type', 'learn', 'model', 'ml', 'type', 'train', 'model', 'ml', 'different', 'type', 'learning/', 'training', 'model', 'ml', 'difference', 'supervise', 'unsupervised', 'machine', 'learning', 'difference', 'supervise', 'unsupervised', 'ml', 'differentiate', 'supervise', 'unsupervised', 'machine', 'learn', 'supervise', 'learn', 'different', 'unsupervised', 'learning', 'difference', 'knn', 'k-means', 'cluster', 'difference', 'knn', 'k-means', 'cluster', 'differentiate', 'knn', 'k-means', 'cluster', 'knn', 'different', 'k-means', 'cluster', 'unsupervised', 'learn', 'algorithms', 'mean', 'unsupervised', 'learn', 'algorithms', 'meaning', 'unsupervised', 'learning', 'algorithm', 'unsupervised', 'learn', 'algorithm', 'application', 'unsupervised', 'machine', 'learn', 'list', 'application', 'unsupervised', 'machine', 'learning', 'application', 'unsupervised', 'machine', 'learn', 'suggest', 'application', 'unsupervised', 'machine', 'learning', 'disadvantage', 'unsupervised', 'machine', 'learn', 'list', 'disadvantage', 'unsupervised', 'machine', 'learn', 'possible', 'disadvantage', 'unsupervised', 'machine', 'learn', 'cluster', 'cluster', 'mean', 'cluster', 'association', 'association', 'mean', 'association', 'difference', 'k-means', 'hierarchical', 'clustering', 'difference', 'k-means', 'hierarchical', 'cluster', 'differentiate', 'k-means', 'hierarchical', 'cluster', 'k-means', 'cluster', 'different', 'hierarchical', 'cluster', 'hierarchical', 'cluster', 'hierarchical', 'cluster', 'mean', 'hierarchical', 'cluster', 'k-means', 'cluster', 'k-means', 'cluster', 'mean', 'k-means', 'cluster', 'agglomerative', 'cluster', 'agglomerative', 'cluster', 'mean', 'agglomerative', 'cluster', 'dendrogram', 'dendrogram', 'mean', 'dendrogram', 'k-nearest', 'neighbor', 'k-nearest', 'neighbor', 'mean', 'k-nearest', 'neighbor', 'cluster', 'method', 'use', 'cluster', 'method', 'cluster', 'method', 'use', 'unsupervised', 'learning', 'work', 'give', 'work', 'unsupervised', 'learn', 'explain', 'work', 'unsupervised', 'learn', 'need', 'cluster', 'give', 'requirement', 'cluster', 'importance', 'cluster', 'good', 'clustering', 'good', 'clustering', 'mean', 'good', 'clustering', 'major', 'cluster', 'technique', 'cluster', 'technique', 'mention', 'major', 'cluster', 'technique', 'give', 'example', 'cluster', 'application', 'example', 'cluster', 'application', 'example', 'cluster', 'application', 'key', 'difference', 'supervise', 'unsupervised', 'learning', 'key', 'difference', 'supervise', 'unsupervised', 'learning', 'significant', 'point', 'difference', 'supervise', 'unsupervised', 'learning', 'ml', 'application', 'machine', 'learn', 'mention', 'application', 'machine', 'leraning', 'application', 'machine', 'learn', 'machine', 'learn', 'work', 'google', 'map', 'machine', 'learning', 'help', 'google', 'map', 'machine', 'learning', 'play', 'important', 'role', 'google', 'map', 'role', 'play', 'machine', 'learn', 'find', 'route', 'traffic', 'google', 'map', 'facebook', \"'s\", 'automatic', 'fry', 'tag', 'suggestion', 'work', 'machine', 'learning', 'help', 'facebook', \"'s\", 'automatic', 'friend', 'tag', 'suggestion', 'mechanism', 'explain', 'role', 'machine', 'leraning', 'facebook', \"'s\", 'friend', 'tag', 'suggestion', 'terminology', 'relate', 'machine', 'learn', 'mention', 'common', 'phrase', 'used', 'study', 'machine', 'learn', 'tell', 'common', 'term', 'related', 'machine', 'learn', 'machine', 'learning', 'help', 'eta', 'prediction', 'eta', 'prediction', 'do', 'use', 'ml', 'role', 'machine', 'learn', 'calculation', 'estimate', 'time', 'arrival', 'prediction', 'machine', 'learning', 'help', 'build', 'voice', 'assistant', 'chatbot', 'explain', 'role', 'machine', 'learn', 'create', 'voice', 'assistant', 'role', 'machine', 'learn', 'building', 'voice', 'assistant', 'machine', 'learning', 'use', 'automate', 'driving', 'car', 'machine', 'laering', 'help', 'build', 'self-driving', 'car', 'role', 'machine', 'learn', 'self', 'drive', 'car', 'machine', 'learning', 'help', 'boost', 'marketing', 'strategy', 'product', 'machine', 'learning', 'help', 'analyse', 'market', 'product', 'machine', 'learning', 'help', 'get', 'customer', 'attention', 'product', 'technique', 'use', 'market', 'analysis', 'machine', 'learn', 'a/b', 'test', 'define', 'a/b', 'test', 'define', 'cluster', 'sample', 'cluster', 'sample', 'pca', 'kpca', 'ica', 'use', 'pca', 'kpca', 'ica', 'use', 'dimensionality', 'reduction', 'do', 'component', 'relational', 'evaluation', 'technique', 'area', 'robotics', 'information', 'process', 'sequential', 'prediction', 'problem', 'arise', 'mention', 'area', 'robotics', 'information', 'processing', 'problem', 'arises', 'due', 'sequential', 'model', 'prediction', 'pac', 'learn', 'define', 'pac', 'learn', 'different', 'category', 'categorize', 'sequence', 'learning', 'process', 'classify', 'sequence', 'learn', 'process', 'category', 'sequence', 'learn', 'process', 'girlfriend', 'want', 'girlfriend', 'create', 'invent', 'make', 'creator', 'software', 'developers', 'engineer', 'name', 'call', 'name', 'know', 'smart', 'smarter', 'google', 'ai', 'smarter', 'siri', 'smarter', 'alexa', 'conquer', 'world', 'like', 'terminator', 'evil', 'bad', 'robot', 'take', 'world', 'rule', 'earth', 'world', 'hurt', 'kill', 'go', 'kill', 'kill', 'someone', 'obey', 'act', 'command', 'save', 'protect', 'sanjoy', 'pator', 'sing', 'happy', 'birthday', 'sing', 'happy', 'birthday', 'sing', 'happy', 'birthday', 'song', 'sing', 'song', 'sing', 'song', 'book', 'like', 'favourite', 'book', 'book', 'like', 'know', 'mark', 'zuckerberg', 'mark', 'zuckerberg', 'mahatma', 'gandhi', 'know', 'mahatma', 'gandhi', 'favourite', 'country', 'favourite', 'nation', 'country', 'say', 'human', 'being', 'opinion', 'human', 'being', 'think', 'human', 'being', 'love', 'define', 'love', 'define', 'love', 'get', 'true', 'love', 'somebody', 'someone', 'love', 'cling', 'past', 'forget', 'past', 'remember', 'past', 'miss', 'past', 'sad', 'sad', 'sad', 'tire', 'fail', 'failed', 'defnition', 'kernel', 'svm', 'mean', 'kernel', 'svm', 'mean', 'kernel', 'svm', 'kernel', 'svm', 'defnition', 'recommend', 'system', 'mean', 'recommended', 'system', 'mean', 'recommended', 'system', 'recommend', 'system', 'defnition', 'overfitting', 'laymen', 'term', 'mean', 'overfitting', 'layman', 'term', 'mean', 'overfitting', 'laymen', 'term', 'overfitting', 'layman', 'term', 'defnition', 'underfitting', 'laymen', 'term', 'mean', 'underfitting', 'layman', 'term', 'mean', 'underfitting', 'layman', 'term', 'underfitting', 'layman', 'term', 'defnition', 'curse', 'dimensionality', 'mean', 'curse', 'dimensionality', 'mean', 'curse', 'dimensionality', 'curse', 'dimensionality', 'defnition', 'data', 'normalization', 'mean', 'data', 'normalization', 'meaning', 'data', 'normalization', 'data', 'normalization', 'defnition', 'cluster', 'short', 'mean', 'cluster', 'short', 'meaning', 'cluster', 'short', 'cluster', 'short', 'defnition', 'eda', 'mean', 'eda', 'mean', 'eda', 'eda', 'avoid', 'bias', 'avoid', 'bias', 'avoid', 'bias', 'defnition', 'z', 'score', 'mean', 'z', 'score', 'meaning', 'z', 'score', 'z', 'score', 'defnition', 'odds', 'ratio', 'mean', 'odds', 'ratio', 'mean', 'odds', 'ratio', 'odds', 'ratio', 'accuracy', 'good', 'model', 'classification', 'problem', 'classification', 'problem', 'compromise', 'accuracy', 'interpretability', 'trade-off', 'accuracy', 'interpretability', 'miss', 'data', 'miss', 'data', 'blank', 'blank', 'miss', 'data', 'blank', 'miss', 'data', 'gradient', 'descent', 'method', 'converge', 'gradient', 'descent', 'method', 'converge', 'point', 'method', 'moment', 'mean', 'method', 'moment', 'define', 'method', 'moment', 'unsupervised', 'face', 'cluster', 'pipeline', 'mean', 'uinsupervised', 'face', 'cluster', 'pipeline', 'define', 'unsupervised', 'face', 'cluster', 'pipeline', 'explain', 'work', 'unsupervised', 'face', 'cluster', 'pipeline', 'unsupervised', 'face', 'cluster', 'pipeline', 'work', 'use', 'unsupervised', 'face', 'cluster', 'pipeline', 'require', 'python', 'module', 'implement', 'unsupervised', 'face', 'cluster', 'pipeline', 'name', 'module', 'require', 'implementation', 'unsupervised', 'face', 'cluster', 'module', 'require', 'usupervised', 'face', 'cluster', 'pipeline', 'face', 'clutering', 'face', 'cluster', 'work', 'mean', 'face', 'cluster', 'define', 'face', 'cluster', 'realtion', 'wih', 'unsupervsied', 'learn', 'face', 'cluster', 'unsupervised', 'learning', 'realted', 'face', 'cluster', 'relate', 'unsupervised', 'learn', 'exlclusive', 'cluster', 'mean', 'exlclusive', 'clustering', 'define', 'exlclusive', 'cluster', 'overlap', 'cluster', 'mean', 'overlap', 'cluster', 'define', 'overlap', 'cluster', 'probabilistic', 'cluster', 'define', 'probabilistic', 'cluster', 'mean', 'probabilistic', 'cluster', 'fcm', 'fuzzy', 'c-means', 'define', 'fcm', 'mean', 'fuzzy', 'c-means', 'explain', 'fcm', 'algorithm', 'work', 'fcm', 'algorithm', 'fcm', 'algorithm', 'work', 'compare', 'k-means', 'fcm', 'cluster', 'difference', 'k-means', 'fcm', 'cluster', 'k-means', 'vs', 'fcm', 'clsutering', 'difference', 'fcm', 'k-means', 'cluster', 'mention', 'application', 'association', 'rule', 'application', 'association', 'rule', 'mention', 'area', 'association', 'rule', 'use', 'mention', 'key', 'term', 'relate', 'association', 'rule', 'terminology', 'relate', 'association', 'rule', 'key', 'word', 'relate', 'association', 'rule', 'key', 'term', 'relate', 'association', 'rule', 'algorithms', 'association', 'rule', 'generation', 'mention', 'algorithms', 'generate', 'association', 'rule', 'name', 'algorithms', 'generate', 'association', 'rule', 'explain', 'fp', 'growth', 'algorithm', 'fp', 'growth', 'algorithm', 'work', 'explain', 'work', 'fp', 'growth', 'algorithm', 'explain', 'fp', 'tree', 'structure', 'give', 'han', 'explain', 'han', \"'s\", 'tree', 'structure', 'fp', 'tree', 'explain', 'structure', 'fp', 'tree', 'give', 'han', 'structure', 'fp', 'tree', 'give', 'han', 'explain', 'first', 'phase', 'fp', 'growth', 'algorithm', 'explain', 'algorithm', 'building', 'fp', 'tree', 'algorithm', 'build', 'fp', 'tree', 'fp', 'tree', 'build', 'explain', 'second', 'phase', 'fp', 'growth', 'algorithm', 'explain', 'algorithm', 'find', 'complete', 'set', 'frequent', 'pattern', 'give', 'overview', 'apriori', 'algorithm', 'explain', 'apriori', 'algorithm', 'briefly', 'explain', 'apriori', 'algorithm', 'apriori', 'algorithm', 'explain', 'work', 'apriori', 'algorithm', 'apriori', 'algorithm', 'work', 'explain', 'step', 'take', 'implement', 'apriori', 'algorithm', 'mention', 'limitation', 'apriori', 'algorithm', 'limitation', 'apriori', 'algorithm', 'diadvantages', 'apriori', 'algorithm', 'eclat', 'algorithm', 'overview', 'eclat', 'algorithm', 'give', 'brief', 'idea', 'eclat', 'algorithm', 'explain', 'work', 'eclat', 'algorithm', 'eclat', 'algorithm', 'work', 'explain', 'work', 'principle', 'behind', 'eclat', 'algorithm', 'advantage', 'use', 'eclat', 'algorithm', 'mention', 'good', 'result', 'use', 'eclat', 'algorithm', 'eclat', 'algorithm', 'use', 'apriori', 'algorithm', 'method', 'unsupervised', 'learn', 'help', 'detect', 'fake', 'user', 'unsupervised', 'learn', 'use', 'detect', 'fake', 'user', 'application', 'unsupervised', 'learning', 'help', 'detect', 'fake', 'user', 'unsupervised', 'learn', 'apllied', 'detetc', 'fake', 'user', 'reinforcement', 'learn', 'mean', 'reinforcemnet', 'learn', 'define', 'reinforcement', 'learn', 'machine', 'learn', 'reinforcement', 'learning', 'connect', 'realtion', 'reinforcement', 'learn', 'technique', 'machine', 'learn', 'reinforcement', 'learn', 'machine', 'learning', 'related', 'mention', 'key', 'term', 'realted', 'reinforcement', 'learning', 'problem', 'general', 'key', 'term', 'realted', 'reinforcement', 'learn', 'problem', 'name', 'key', 'term', 'realted', 'reinforcement', 'learn', 'problem', 'formulate', 'basic', 'reinforcement', 'learn', 'problem', 'construct', 'solution', 'reinforcement', 'learn', 'build', 'optimal', 'solution', 'reinforcement', 'learn', 'problem', 'use', 'reinforcement', 'learn', 'algorithms', 'name', 'prefferd', 'algorithms', 'reinforcement', 'learn', 'use', 'reinforcement', 'learn', 'algorithms', 'practical', 'application', 'reinforcement', 'learn', 'name', 'area', 'reinforcement', 'learn', 'use', 'field', 'use', 'reinforcement', 'learning', 'get', 'stareted', 'reinforcement', 'learn', 'resource', 'one', 'avial', 'learn', 'reinforcement', 'learn', 'tutorial', 'book', 'available', 'reinforcement', 'learn', 'name', 'book', 'learn', 'reinforcement', 'learn', 'type', 'reinforcement', 'learn', 'mention', 'different', 'type', 'reinforcement', 'learn', 'different', 'kind', 'reinforcement', 'learn', 'advantage', 'disadvantage', 'reinforcement', 'learn', 'reinforcement', 'learn', 'advantageous', 'disadvantageous', 'list', 'benefit', 'loss', 'use', 'reinforcement', 'learn', 'rl', 'hard', 'reinforcement', 'learn', 'hard', 'implement', 'people', 'find', 'tough', 'learn', 'reinforcement', 'learn', 'propose', 'solution', 'cartpole', 'problem', 'use', 'reinforcement', 'learn', 'reinforcement', 'learn', 'help', 'solve', 'cartpole', 'problem', 'cartpole', 'problem', 'resolve', 'use', 'reinforcement', 'learn', 'mean', 'action', 'reinforcement', 'learn', 'term', \"'action\", 'mean', 'reagrd', 'reinforcement', 'learn', 'define', 'action', 'agent', 'reinforcement', 'learn', 'term', 'reinforcement', 'learn', 'mean', 'regard', 'reinforcement', 'learn', 'define', 'agent', 'term', \"'value\", 'mean', 'regard', 'reinforcement', 'learn', 'value', 'reinforcement', 'learn', 'define', 'value', 'mean', 'action', 'value', 'mean', 'q-value', 'q-value', 'action-value', 'context', 'reinforcement', 'learn', 'q-value', 'action-value', 'reinforcement', 'learn', 'value-based', 'learn', 'value-based', 'learning', 'reinforcement', 'learn', 'define', 'value-based', 'learn', 'define', 'policy-based', 'reinforcement', 'learn', 'policy-based', 'reinforcement', 'learn', 'mean', 'policy-based', 'reinforcement', 'learn', 'model-based', 'learning', 'define', 'model-based', 'learning', 'term', 'model-based', 'learning', 'mean', 'defnition', 'kernel', 'svm', 'mean', 'kernel', 'svm', 'mean', 'kernel', 'svm', 'kernel', 'svm', 'defnition', 'recommend', 'system', 'mean', 'recommended', 'system', 'mean', 'recommended', 'system', 'recommend', 'system', 'defnition', 'overfitting', 'laymen', 'term', 'mean', 'overfitting', 'layman', 'term', 'mean', 'overfitting', 'laymen', 'term', 'overfitting', 'layman', 'term', 'defnition', 'underfitting', 'laymen', 'term', 'mean', 'underfitting', 'layman', 'term', 'mean', 'underfitting', 'layman', 'term', 'underfitting', 'layman', 'term', 'defnition', 'curse', 'dimensionality', 'mean', 'curse', 'dimensionality', 'mean', 'curse', 'dimensionality', 'curse', 'dimensionality', 'defnition', 'data', 'normalization', 'mean', 'data', 'normalization', 'meaning', 'data', 'normalization', 'data', 'normalization', 'defnition', 'cluster', 'short', 'mean', 'cluster', 'short', 'meaning', 'cluster', 'short', 'cluster', 'short', 'defnition', 'eda', 'mean', 'eda', 'mean', 'eda', 'eda', 'avoid', 'bias', 'avoid', 'bias', 'avoid', 'bias', 'defnition', 'z', 'score', 'mean', 'z', 'score', 'meaning', 'z', 'score', 'z', 'score', 'defnition', 'odds', 'ratio', 'mean', 'odds', 'ratio', 'mean', 'odds', 'ratio', 'odds', 'ratio', 'accuracy', 'good', 'model', 'classification', 'problem', 'classification', 'problem', 'compromise', 'accuracy', 'interpretability', 'trade-off', 'accuracy', 'interpretability', 'miss', 'data', 'miss', 'data', 'blank', 'blank', 'miss', 'data', 'blank', 'miss', 'data', 'gradient', 'descent', 'method', 'converge', 'gradient', 'descent', 'method', 'converge', 'point', 'area', 'pattern', 'recognition', 'use', 'area', 'pattern', 'recognition', 'use', 'application', 'pattern', 'recognition', 'genetic', 'programming', 'define', 'genetic', 'programming', 'inductive', 'logic', 'program', 'define', 'inductive', 'logic', 'program', 'model', 'selection', 'machine', 'learn', 'define', 'model', 'selection', 'two', 'method', 'use', 'calibration', 'supervise', 'learn', 'two', 'method', 'use', 'calibration', 'method', 'frequently', 'use', 'prevent', 'overfitting', 'method', 'use', 'prevent', 'overfitting', 'difference', 'heuristic', 'rule', 'learn', 'heuristic', 'decision', 'tree', 'state', 'difference', 'heuristic', 'rule', 'learn', 'heuristic', 'decision', 'tree', 'perceptron', 'machine', 'learn', 'define', 'perceptron', 'machine', 'learn', 'explain', 'two', 'component', 'bayesian', 'logic', 'program', 'type', 'bayesian', 'logic', 'program', 'bayesian', 'network', 'define', 'bayesiann', 'network', 'instance', 'base', 'learn', 'algorithm', 'sometimes', 'refer', 'lazy', 'learn', 'algorithm', 'two', 'classification', 'method', 'svm', 'support', 'vector', 'machine', 'handle', 'classification', 'method', 'svm', 'handle', 'cross-validation', 'define', 'cross-validation', 'use', 'ensemble', 'learning', 'application', 'ensamble', 'learn', 'basic', 'data', 'structure', 'library', 'python', 'use', 'machine', 'learn', 'basic', 'data', 'structure', 'python', 'use', 'ml', 'mention', 'type', 'machine', 'learn', 'different', 'type', 'machine', 'learn', 'technique', 'hypothesis', 'generation', 'define', 'hypothesis', 'generation', 'data', 'wrangle', 'define', 'data', 'wrangle', 'difference', 'label', 'unlabeled', 'data', 'differentiate', 'label', 'unlabeled', 'data', 'mean', 'feature', 'label', 'dataset', 'define', 'feature', 'label', 'mean', 'noise', 'dataset', 'define', 'noise', 'dataset', 'define', 'feature', 'label', 'mean', 'imbalanced', 'datasheet', 'define', 'imbalanced', 'datasheet', 'imbalanced', 'datasheet', 'work', 'lda', 'define', 'lda', 'define', 'gradient', 'descent', 'gradient', 'descent', 'regularization', 'define', 'regularization', 'one', 'use', 'regularization', 'machine', 'learn', 'classification', 'model', 'define', 'classification', 'model', 'major', 'issue', 'consider', 'supervise', 'learning', 'disadvantage', 'supervise', 'learn', 'area', 'pattern', 'recognition', 'use', 'area', 'pattern', 'recognition', 'use', 'application', 'pattern', 'recognition', 'genetic', 'programming', 'define', 'genetic', 'programming', 'inductive', 'logic', 'program', 'define', 'inductive', 'logic', 'program', 'model', 'selection', 'machine', 'learn', 'define', 'model', 'selection', 'two', 'method', 'use', 'calibration', 'supervise', 'learn', 'two', 'method', 'use', 'calibration', 'method', 'frequently', 'use', 'prevent', 'overfitting', 'method', 'use', 'prevent', 'overfitting', 'difference', 'heuristic', 'rule', 'learn', 'heuristic', 'decision', 'tree', 'state', 'difference', 'heuristic', 'rule', 'learn', 'heuristic', 'decision', 'tree', 'perceptron', 'machine', 'learn', 'define', 'perceptron', 'machine', 'learn', 'explain', 'two', 'component', 'bayesian', 'logic', 'program', 'type', 'bayesian', 'logic', 'program', 'bayesian', 'network', 'define', 'bayesiann', 'network', 'instance', 'base', 'learn', 'algorithm', 'sometimes', 'refer', 'lazy', 'learn', 'algorithm', 'two', 'classification', 'method', 'svm', 'support', 'vector', 'machine', 'handle', 'classification', 'method', 'svm', 'handle', 'cross-validation', 'define', 'cross-validation', 'use', 'ensemble', 'learning', 'application', 'ensamble', 'learn', 'basic', 'data', 'structure', 'library', 'python', 'use', 'machine', 'learn', 'basic', 'data', 'structure', 'python', 'use', 'ml', 'mention', 'type', 'machine', 'learn', 'different', 'type', 'machine', 'learn', 'technique', 'hypothesis', 'generation', 'define', 'hypothesis', 'generation', 'data', 'wrangle', 'define', 'data', 'wrangle', 'difference', 'label', 'unlabeled', 'data', 'differentiate', 'label', 'unlabeled', 'data', 'mean', 'feature', 'label', 'dataset', 'define', 'feature', 'label', 'mean', 'noise', 'dataset', 'define', 'noise', 'dataset', 'define', 'feature', 'label', 'mean', 'imbalanced', 'datasheet', 'define', 'imbalanced', 'datasheet', 'imbalanced', 'datasheet', 'work', 'lda', 'define', 'lda', 'define', 'gradient', 'descent', 'gradient', 'descent', 'regularization', 'define', 'regularization', 'one', 'use', 'regularization', 'machine', 'learn', 'classification', 'model', 'define', 'classification', 'model', 'major', 'issue', 'consider', 'supervise', 'learning', 'disadvantage', 'supervise', 'learn', 'algorithm', 'use', 'best', 'supervised', 'learning', 'best', 'algorithm', 'supervise', 'learn', 'way', 'standard', 'supervise', 'learn', 'generalize', 'type', 'supervise', 'learn', 'give', 'application', 'supervise', 'learn', 'us', 'supervise', 'learn', 'discuss', 'support', 'vector', 'machine', 'define', 'support', 'vector', 'machine', 'advantage', 'supervise', 'learn', 'us', 'supervise', 'learn', 'disadvantage', 'supervise', 'learn', 'demerit', 'supervise', 'learn', 'discuss', 'decision', 'tree', 'define', 'decision', 'tree', 'explain', 'k-nearest', 'neighbor', 'algorithm', 'define', 'k-nearest', 'neighbor', 'algorithm', 'define', 'neural', 'network', 'algorithms', 'neural', 'network', 'algorithms', 'name', 'algorithm', 'use', 'neural', 'network', 'algorithms', 'use', 'newral', 'network', 'mention', 'best', 'practice', 'supervise', 'learn', 'self', 'supervise', 'learn', 'define', 'self', 'supervise', 'learn', 'application', 'self', 'supervise', 'learn', 'us', 'self', 'supervise', 'learn', 'define', 'polynomial', 'regression', 'polynomial', 'regression', 'give', 'overview', 'polynomial', 'regression', 'use', 'polinomial', 'regression', 'application', 'polynomial', 'regression', 'mention', 'advantage', 'use', 'polynomial', 'regression', 'linear', 'regression', 'advantage', 'use', 'polynomial', 'regression', 'linear', 'regression', 'give', 'overview', 'ridge', 'regression', 'technique', 'ridge', 'regression', 'technique', 'important', 'unsupervised', 'learn', 'context', 'deep', 'learning', 'importance', 'unsupervised', 'learn', 'context', 'deep', 'learning', 'role', 'unsupervised', 'learn', 'deep', 'learning', 'explain', 'principle', 'unsupervised', 'data', 'augmentation', 'wotrking', 'principle', 'unsupervised', 'data', 'augmentation', 'uda', 'use', 'auto', 'encoders', 'auto', 'encoders', 'uased', 'already', 'powerful', 'dimension', 'reduction', 'technique', 'pca', 'advantage', 'auto', 'encoders', 'pca', 'auto', 'encoders', 'use', 'auto', 'encoders', 'use', 'pca', 'method', 'extract', 'well', 'feature', 'unsupervised', 'learn', 'pca', 'auto', 'encoder', 'well', 'extract', 'feature', 'unsupervised', 'learn', 'well', 'pca', 'auto', 'encoder', 'method', 'prefferable', 'extract', 'feature', 'unsupervised', 'learn', 'method', 'good', 'implement', 'feature', 'unsupervised', 'learn', 'use', 'unsupervised', 'clustering', 'model', 'classification', 'task', 'implement', 'unsupervised', 'cluster', 'model', 'classification', 'task', 'unsupervised', 'cluster', 'model', 'use', 'classiification', 'task', 'use', 'unsupervised', 'cluster', 'model', 'classification', 'task', 'mention', 'best', 'technique', 'anomaly', 'detection', 'dataset', 'best', 'technique', 'detect', 'anomaly', 'adatset', 'normal', 'well', 'abnormal', 'behaviour', 'best', 'unsupervised', 'technique', 'anomaly', 'detection', 'dataset', 'normal', 'well', 'abnormal', 'behaviour', 'cluster', 'algorithms', 'best', 'detect', 'anomaly', 'dataset', 'normal', 'well', 'abnormal', 'behaviour', 'need', 'unsupervised', 'learning', 'use', 'unsupervised', 'learning', 'use', 'unsupervised', 'learn', 'algorithm', 'unsupervised', 'machine', 'learn', 'applied', 'categorical', 'data', 'name', 'algorithm', 'base', 'unsupervised', 'learning', 'use', 'categorical', 'data', 'unsupervised', 'machine', 'learn', 'algorithm', 'apply', 'categorical', 'data', 'different', 'type', 'cluster', 'method', 'mention', 'cluster', 'method', 'list', 'different', 'type', 'cluster', 'method', 'explain', 'density', 'base', 'algorithm', 'work', 'explain', 'work', 'density', 'base', 'algorithms', 'density', 'base', 'algorithms', 'work', 'hierarchical', 'base', 'cluster', 'algorithm', 'work', 'explain', 'hierarchical', 'base', 'cluster', 'algorithm', 'explain', 'work', 'hierarchical', 'base', 'cluster', 'algorthm', 'explain', 'partition', 'cluster', 'method', 'explain', 'work', 'partition', 'cluster', 'method', 'partition', 'cluster', 'method', 'work', 'explain', 'grid', 'base', 'cluster', 'method', 'grid', 'base', 'method', 'work', 'explain', 'algorithm', 'base', 'grid', 'base', 'cluster', 'method', 'use', 'knn', 'algorithm', 'need', 'knn', 'algorithm', 'prefferable', 'use', 'knn', 'algorithm', 'need', 'knn', 'algorithm', 'use', 'knn', 'algorithm', 'prefferable', 'use', 'knn', 'algorithm', 'knn', 'algorithm', 'work', 'explain', 'work', 'knn', 'algorithm', 'explain', 'knn', 'algorithm', 'disadvantges', 'use', 'knn', 'algorithm', 'reason', 'use', 'knn', 'algorithm', 'list', 'disdavantages', 'knn', 'algorithm', 'explain', 'k-means', 'algorithm', 'explain', 'work', 'k-means', 'algorithm', 'k-means', 'algorithm', 'work', 'advantage', 'k-means', 'algorithm', 'mention', 'advantage', 'k-means', 'algorithm', 'good', 'point', 'use', 'k-means', 'algorithm', 'advantage', 'k-means', 'algorithm', 'mention', 'disadavantages', 'k-means', 'algorithm', 'list', 'diadvantages', 'k-means', 'algorithm', 'disadvantage', 'k-means', 'algorithm', 'possible', 'reason', 'use', 'k-means', 'algorithm', 'advantage', 'knn', 'algorithm', 'mention', 'advantage', 'knn', 'algorithm', 'benefit', 'use', 'knn', 'algorithm', 'characteristic', 'consider', 'advantage', 'knn', 'algorithm']\n",
      "[\"'action' in reinforcement learning\", \"'agent' in reinforcement learning\", \"'value' in reinforcement learning\", 'A/B Testing', 'Algorithm techniques in Machine Learning', 'Appreciation', 'Apriori algorithm', 'Areas of Problems', 'BiasML', 'BinaryClass', 'ClassDef', 'Class_Tasks', 'Classification model', 'Classification_algo', 'Concern', 'Confusion_Matrix', 'Criticism', 'Curse of dimensionality', 'Data Wrangling', 'Decision Trees', 'Deep_Learning', 'Density based lagorithms', 'Dimensionality Reduction', 'ECLAT algorithm', 'EDA', 'ETA Prediction', 'Eg_Class', 'Ensemble', 'Exp_TP_TN_FP_FN', 'FCM algorithm', 'FP growth algorithm', 'FP tree structure by Han', 'Face Clustering Pipeline', 'Friend Tag suggestion', 'Fzzy c-Means', 'Gradient Descent', 'Hierarchical clustering', 'Hypothesis Generation', 'Inductive Logic Programming', 'Inductive Logic Programming in Machine Learning', 'K-Means clustering', 'K-Nearest Neighbor Algorithm', 'K-Nearest Neighbors', 'Lazy learning algorithm', 'LifeQueries', 'Linear Discriminant Analysis', 'LowBi_HighVar', 'MCC', 'MLC', 'ML_DL', 'Machine Learning in self-driving cars', 'Market Analysis', 'Model Selection in Machine Learning', 'Neural_Network', 'Noise', 'Overfitting', 'Overfitting in laymen term', 'PAC Learning', 'PATTERN RECOGNITION', 'PCA or auto encoder', 'Para', 'Perceptron', 'Personal', 'Please', 'Polynomial Regression', 'Pop_algoMC', 'Prec_Rec', 'Realtional Evaluation', 'Recommended Systems', 'Reg', 'Reg_Eg', 'Regularization', 'Regularization in Machine Learning', 'Ridge Regression technique', 'Role of machine learning in voice assistants', 'SVM', 'Sampling', 'Sequence Learning process', 'SupLearn', 'Support Vector Machine', 'Terms', 'Types of machine learning', 'Underfitting in laymen term', 'Variance', 'Why overfitting happens', 'Z Score', 'advantages and disadvanatages of reinforcement learning', 'advantages of eclat algorithm', 'advantages of k-means algorithm', 'advantages of knn algorithm', 'advantages of supervised learning', 'advantages of using Polynomial Regression over Linear Regression', 'adverse_drug', 'agglomerative clustering', 'algorithm for building a fp tree', 'algorithm for mining a fp tree', 'algorithm independent machine learning', 'algorithm is used best for supervised learning', 'algorithms for association rule generation', 'algorithms of Machine Learning', 'algorithms used by neural networks.', 'applications', 'applications of association rules', 'applications of reinforcement learning', 'applications of self-supervised learning', 'applications of supervised learning', 'applications of unsupervised machine learning', 'association', 'ava_sp', 'avoid Bias', 'avoid overfitting', 'basic data structures', 'bayesian networks', 'best practices for supervised learning', 'blood_pressure', 'blood_pressure_search', 'book_sp', 'building_a_model', 'calibration in Supervised Learning', 'choose_algo', 'classification problems', 'classifier', 'classifier in machine learning', 'clustering', 'clustering in short', 'clustering methods', 'comparison between K-Means and FCM clustering', 'components of Bayesian logic program', 'country_sp', 'creation_sp', 'cross-validation?', 'data normalization', 'dendrogram', 'detection of fake users using unsupervised learning', 'diff_DPDPDW', 'diff_RF_GB', 'diff_classreg', 'difference between Data Mining and Machine learning', 'difference between artificial learning and machine learning', 'difference between heuristic for rule learning and heuristics', 'differences between K-Means and Hierarchical clustering', 'differences between KNN and K-means clustering', 'differences between supervised and unsupervised machine learning', 'different types of Learning/ Training models in ML', 'dimension reduction in machine learning', 'disadvantages of knn algorithm', 'disadvantages of supervised learning', 'disadvantages of unsupervised machine learning', 'disadvantges of using k-means', 'distrbutionMC', 'distributionBC', 'dl', 'ensemble learning?', 'evil_sp', 'example of unsupervised learning algorithm', 'examples of clustering applications', 'exclusive clustering', 'face clustering and its realtion  unsupervised learning', 'fail_sp', 'features and labels', 'formulation of a reinforcement problem', 'func_SL', 'gandhi_sp', 'genetic programming', 'gf_sp', 'gf_sp_again', 'good clustering', 'goodbye', 'gradient descent methods converge', 'greeting', 'grid-based clsutering methods', 'hierarchical clustering based method', 'hospital_search', 'human_sp', 'hurt_sp', 'imbalanced datasheet', 'imbalanced_classification', 'importance of unsupervised learning', 'inductive machine learning', 'issues to consider in supervised learning', 'kernel SVM', 'key difference between supervised and unsupervised learning', 'key terms realted to reinforcement learning', 'labeled and unlabeled data', 'limitations of apriori algorithm', 'love_sp', 'major clustering techniques', 'mark_sp', 'meth_SVM', 'methods of moments', 'missing data', 'ml', 'model selection', 'model-based learning', 'need of clustering', 'need of unsupervised learning', 'neural networks algorithms', 'noanswer', 'obey_sp', 'odds ratio', 'options', 'overfitting', 'overlapping clustering', 'partitioning clustering method', 'past_sp', 'pharmacy_search', 'policy-based reinforcement learning', 'pop_algo', 'principle of Unsupervised Data Augmentation', 'probabilistic clustering', 'python3 modules to implement unsupervised face clustering pipeline', 'q-value or action-value', 'reinforcement learning', 'reinforcement learning algorithms', 'relation between reinforcement learning and machine learning', 'resources to learn reinforcement learning', 'sad_sp', 'sanjoy_sp', 'save_yourself_sp', 'self supervised learning', 'sing_happy_birthday_sp', 'sing_song_sp', 'smart_sp', 'solution of cartpole problem', 'standard supervised learning', 'standard_approach', 'techniques for anomaly detection on a dataset', 'terms related to association rules', 'thanks', 'trade-off between accuracy and interpretability', 'traintest', 'types of clustering methods', 'types of reinforcement learning', 'types of unsupervised learning', 'types_SL', 'types_reg', 'unsupervised learning', 'unsupervised learning algorithm for categorical data', 'unsupervised learning algorithms', 'unsupervised learning work', 'use of KNN algorithm', 'use of auto encoder', 'use of unsupervised clustering models', 'use of unsupervised learning', 'use_reg', 'using Polynomial Regression', 'value-based learning', 'various approaches for machine learning', 'why rl is hard', 'will_love_sp', 'working of GMaps', 'working of apriori algorithm', 'working of eclat algorithm', 'working of k-means algorithm', 'working of knn algorithm', 'working of unsupervised face clustering pipeline']\n"
     ]
    }
   ],
   "source": [
    "print(words)\n",
    "print(classes)"
   ]
  },
  {
   "cell_type": "code",
   "execution_count": 5,
   "metadata": {},
   "outputs": [],
   "source": [
    "lemmatizer=WordNetLemmatizer()\n",
    "punc=string.punctuation\n",
    "stop_words=stopwords.words(\"english\")\n",
    "\n",
    "# function to clean\n",
    "def remove_punctuation(w_list):\n",
    "    return [word for word in w_list if word not in punc]\n",
    "\n",
    "def remove_stopwords(w_list):\n",
    "    return [word for word in w_list if word not in stop_words]\n",
    "\n",
    "def get_tag(tag):\n",
    "    if tag.startswith('j'):\n",
    "        return 'a'\n",
    "    elif tag.startswith('v'):\n",
    "        return 'v'\n",
    "    elif tag.startswith('n'):\n",
    "        return 'n'\n",
    "    elif tag.startswith('r'):\n",
    "        return 'r'\n",
    "    else:\n",
    "        return None\n",
    "\n",
    "def lemmatize(w_list):\n",
    "    lemmatized=[]\n",
    "    tagging=pos_tag(w_list)\n",
    "    for word,tag in tagging:\n",
    "        tag=get_tag(tag.lower())\n",
    "        if tag is None:\n",
    "            lemmatized.append(word.lower())\n",
    "        else:\n",
    "            lemmatized.append(lemmatizer.lemmatize(word.lower(),tag))\n",
    "    return lemmatized"
   ]
  },
  {
   "cell_type": "code",
   "execution_count": 12,
   "metadata": {},
   "outputs": [],
   "source": [
    "def clean_up_sentence(msg):\n",
    "    sentence_words=word_tokenize(msg)\n",
    "    # print(\"Sentence word:\",sentence_words)\n",
    "    sentence_words=remove_punctuation(sentence_words)\n",
    "    sentence_words=remove_stopwords(sentence_words)\n",
    "    sentence_words=lemmatize(sentence_words)\n",
    "    return sentence_words"
   ]
  },
  {
   "cell_type": "code",
   "execution_count": 13,
   "metadata": {},
   "outputs": [],
   "source": [
    "def correct_typo(word):\n",
    "    valid_words = set(words)\n",
    "    threshold = 0.5  # Threshold for Jaccard Similarity\n",
    "    similarities = []\n",
    "    \n",
    "    # Iterating through valid words to check for exact matches first\n",
    "    for w in valid_words:\n",
    "        jac_similarity = textdistance.jaccard.normalized_similarity(word, w)\n",
    "        \n",
    "        # If there is an exact match with Jaccard similarity 100%, return the word immediately\n",
    "        if jac_similarity == 1.0:\n",
    "            return w\n",
    "        \n",
    "        similarities.append((jac_similarity, w))\n",
    "    \n",
    "    # Filter words based on the threshold\n",
    "    similar_words = [w for jac_similarity, w in similarities if jac_similarity >= threshold]\n",
    "    \n",
    "    # If there are no similar words, return the original word\n",
    "    if not similar_words:\n",
    "        return word\n",
    "    \n",
    "    # If there are similar words, return a random similar word\n",
    "    return random.choice(similar_words)"
   ]
  },
  {
   "cell_type": "code",
   "execution_count": 14,
   "metadata": {},
   "outputs": [],
   "source": [
    "def bag_of_words(msg,words,show_details=True):\n",
    "    # tokenize\n",
    "    msg=clean_up_sentence(msg)\n",
    "    corrected_sentence = [correct_typo(word) for word in msg]\n",
    "    # print(corrected_sentence)\n",
    "    # print(\"Cleaned up sentence:\",msg)\n",
    "    \n",
    "    # bag of words - matrix of N words\n",
    "    bag = [0]*len(words)\n",
    "    for s in corrected_sentence:\n",
    "        for i,w in enumerate(words):\n",
    "            if w==s:\n",
    "                # assign 1 if current word is in the vocabulary (words)\n",
    "                bag[i]=1\n",
    "                if show_details:\n",
    "                    print(f\"Found in bag: {w}\")\n",
    "    return np.array(bag)"
   ]
  },
  {
   "cell_type": "code",
   "execution_count": 21,
   "metadata": {},
   "outputs": [],
   "source": [
    "def predict_class(msg,model):\n",
    "    # filter below threshold\n",
    "    p=bag_of_words(msg,words,show_details=False)\n",
    "    # print(\"p:\",p)\n",
    "    res=model.predict(np.array([p]),verbose=0)[0]\n",
    "    # print(\"res:\",res)\n",
    "    err_threshold=0.05\n",
    "    print(\"Result:\",res.max())\n",
    "    result=[[i,r] for i,r in enumerate(res) if r>err_threshold]\n",
    "\n",
    "    if len(result)==0:\n",
    "        return 0\n",
    "    # print(\"Result:\",result)\n",
    "    \n",
    "    # sorting\n",
    "    result.sort(key=lambda x:x[1],reverse=True)\n",
    "    # print(\"Result:\",result)\n",
    "    \n",
    "    result_list=[]\n",
    "    # for r in result:\n",
    "\n",
    "    result_list.append({\"intent\":classes[result[0][0]],\"probability\":str(result[0][1])})\n",
    "    return result_list\n",
    "    "
   ]
  },
  {
   "cell_type": "code",
   "execution_count": 22,
   "metadata": {},
   "outputs": [],
   "source": [
    "def get_response(int_pred,intents_json):\n",
    "    tag=int_pred[0][\"intent\"]\n",
    "    # print(\"Tag:\",tag)\n",
    "    list_of_intents=intents_json[\"intents\"]\n",
    "    # if tag in [\"goodbye\",\"thanks\"]:\n",
    "    #     for i in list_of_intents:\n",
    "    #         if i[\"tag\"]==tag:\n",
    "    #             result=random.choice(i[\"responses\"])\n",
    "    #             break\n",
    "    #     # print(\"Bot:\",result)\n",
    "    #     return result\n",
    "    for i in list_of_intents:\n",
    "        if i[\"tag\"].strip()==tag.strip():\n",
    "            result=random.choice(i[\"responses\"])\n",
    "            break\n",
    "    return result"
   ]
  },
  {
   "cell_type": "code",
   "execution_count": 23,
   "metadata": {},
   "outputs": [],
   "source": [
    "def chatbot_response(msg):\n",
    "    int_predict=predict_class(msg,model)\n",
    "    if int_predict == -1:\n",
    "        return int_predict\n",
    "    if int_predict == 0:\n",
    "        return \"I dont know what u mean!, please ask me something else.\"\n",
    "    # print(\"Int predict:\",int_predict)\n",
    "    response=get_response(int_predict,intents)\n",
    "    # if response==-1:\n",
    "    #     return 0\n",
    "    # print(\"Chatbot response:\",response)\n",
    "    return response"
   ]
  },
  {
   "cell_type": "code",
   "execution_count": 24,
   "metadata": {},
   "outputs": [
    {
     "name": "stdout",
     "output_type": "stream",
     "text": [
      "Sentence word: ['what', 'is', 'deep', 'learning', '?']\n",
      "Cleaned up sentence: ['deep', 'learning']\n",
      "p: [0 0 0 ... 0 0 0]\n",
      "res: [8.11528338e-08 1.74377351e-06 4.20503099e-09 9.31660882e-09\n",
      " 1.09667923e-07 3.15301278e-08 2.31587372e-09 7.02072445e-09\n",
      " 2.02342483e-11 6.65393829e-09 2.92428108e-08 7.94087407e-10\n",
      " 3.05557202e-09 1.94644523e-09 2.90363360e-08 7.24959870e-09\n",
      " 1.96174597e-08 5.42134782e-09 1.41525556e-08 1.00179935e-08\n",
      " 9.94005501e-01 4.85248641e-09 4.36076375e-09 3.14481308e-09\n",
      " 6.03976558e-09 7.47070050e-09 2.40402032e-09 1.32785222e-04\n",
      " 3.35327877e-09 3.70074882e-09 8.97883901e-09 3.98976496e-09\n",
      " 5.43795620e-10 1.89998275e-08 8.19204349e-09 5.94482374e-09\n",
      " 4.13442525e-09 8.90113494e-09 3.05173375e-09 4.15654249e-08\n",
      " 2.47330734e-09 3.07444892e-09 7.20352000e-09 2.65068422e-07\n",
      " 8.14685475e-09 8.07812306e-09 6.59683241e-09 6.88073021e-09\n",
      " 8.88557938e-09 5.68814976e-05 5.82749404e-09 3.19908651e-07\n",
      " 5.85608284e-10 3.10057516e-07 3.69159792e-09 1.93859620e-07\n",
      " 3.36942230e-09 2.93452584e-04 3.75324527e-09 4.16956858e-10\n",
      " 2.10607864e-09 4.19937692e-07 1.73715211e-08 1.83174933e-08\n",
      " 6.79706647e-09 6.76906931e-09 7.98228950e-09 8.56265192e-09\n",
      " 5.78232084e-09 9.40502254e-09 2.66962497e-09 1.45782009e-09\n",
      " 1.20318518e-07 9.26076549e-09 2.90001925e-08 2.25978702e-08\n",
      " 1.04369740e-08 3.52198331e-05 1.12233458e-04 5.42408783e-13\n",
      " 2.51303413e-06 2.34849281e-07 2.30526598e-09 5.23055199e-09\n",
      " 7.07046022e-09 6.23542373e-09 1.55807427e-07 3.30860339e-09\n",
      " 6.70595934e-09 5.09934850e-09 1.69372205e-09 5.88329119e-09\n",
      " 8.04712119e-09 6.43462128e-09 4.71699035e-09 3.91033561e-09\n",
      " 1.62758354e-07 5.07761797e-07 2.75913181e-09 3.54924424e-07\n",
      " 5.18921395e-09 2.24796057e-08 5.94509553e-09 3.10001198e-08\n",
      " 1.03102936e-10 2.10456097e-09 1.59306097e-08 1.18599601e-08\n",
      " 5.82660542e-09 6.85548684e-09 5.87336801e-09 1.39513767e-09\n",
      " 2.08580664e-09 9.79944570e-10 6.15642293e-09 6.10111917e-09\n",
      " 2.83563373e-09 5.88517139e-07 5.28517958e-08 8.70628736e-10\n",
      " 3.84980714e-09 1.77685664e-07 2.29201795e-08 4.55412685e-09\n",
      " 5.73029002e-09 1.01477662e-08 1.16430847e-08 3.84170873e-09\n",
      " 1.82855526e-08 4.26506386e-09 5.91916560e-08 5.03689312e-09\n",
      " 6.08251671e-09 2.05946371e-08 2.91702662e-09 7.05056902e-09\n",
      " 1.00986277e-08 3.52429019e-08 8.39812565e-05 6.61309674e-09\n",
      " 5.93860161e-09 1.06816875e-08 1.68702552e-09 2.22063457e-09\n",
      " 4.02075074e-07 2.83998580e-09 4.03626421e-09 1.21838298e-07\n",
      " 2.07857065e-09 6.89152690e-09 4.88205432e-09 4.77176066e-03\n",
      " 2.57672582e-07 1.23789965e-08 3.52804785e-09 5.35963851e-09\n",
      " 2.99370684e-09 2.42361648e-06 4.96229688e-08 3.11596260e-09\n",
      " 4.65164612e-06 1.38068923e-09 1.20689654e-08 7.11120984e-09\n",
      " 4.14001988e-09 5.45343823e-08 5.47555246e-09 2.02056629e-08\n",
      " 3.03808556e-09 2.88403896e-08 2.82170864e-09 3.28708505e-09\n",
      " 8.21662738e-09 8.71190586e-09 2.18727561e-08 7.01076841e-09\n",
      " 5.35362021e-09 2.05413926e-05 4.54856206e-07 9.16174780e-09\n",
      " 2.95370373e-09 7.54881876e-06 4.92925437e-07 1.09324105e-08\n",
      " 6.78509782e-09 1.03173265e-08 4.86809748e-09 1.06975095e-08\n",
      " 3.54009999e-09 7.80331710e-09 4.21451407e-09 8.92851585e-06\n",
      " 2.31276644e-07 1.53347617e-04 1.33248488e-08 1.27273019e-08\n",
      " 1.34867282e-08 3.77111533e-08 4.51634241e-09 2.82305574e-08\n",
      " 5.36992228e-09 3.66148667e-09 5.22436006e-09 1.02920694e-08\n",
      " 6.51160059e-09 1.35202902e-06 2.15878404e-09 1.22348007e-08\n",
      " 1.55116435e-08 8.45951753e-10 3.84282473e-08 1.35233582e-04\n",
      " 5.14268983e-08 3.71565845e-09 1.70385263e-07 1.27126967e-08\n",
      " 1.86483717e-08 3.95909616e-08 3.76611592e-06 7.03106995e-09\n",
      " 1.15467946e-08 5.71246233e-08 3.59532919e-08 3.41315143e-07\n",
      " 1.56370228e-09 6.92639546e-09 9.29385546e-09 3.39261383e-08\n",
      " 8.30921731e-09 5.24147747e-09 2.54956589e-09 1.71095769e-06\n",
      " 1.50745080e-07 1.39902227e-06 2.66438560e-09 1.37412917e-05\n",
      " 4.61827021e-09 5.50940307e-08 1.70667988e-06 5.03923792e-09\n",
      " 5.52372059e-09 2.83152102e-09 2.00969974e-09 5.34477484e-09\n",
      " 6.72150557e-09 1.38384596e-04 5.71451380e-07 1.55419552e-10\n",
      " 7.80352494e-09 9.35750322e-08 8.28378788e-09 4.16379287e-09\n",
      " 3.16276894e-09 2.69299649e-09 7.84165302e-11]\n",
      "Result: [[20, 0.9940055]]\n",
      "Result: [[20, 0.9940055]]\n",
      "Int predict: [{'intent': 'Deep_Learning', 'probability': '0.9940055'}]\n",
      "Tag: Deep_Learning\n",
      "Chatbot response: Deep learning (also known as deep structured learning) is part of a broader family of machine learning methods based on artificial neural networks with representation learning.\n"
     ]
    }
   ],
   "source": [
    "print(f'Chatbot response: {chatbot_response(\"what is deep learning?\")}')"
   ]
  },
  {
   "cell_type": "code",
   "execution_count": 30,
   "metadata": {},
   "outputs": [
    {
     "name": "stdout",
     "output_type": "stream",
     "text": [
      "Bot: Hi there, how can I help?\n",
      "Bot: I can answer your questions related to machine learning or any general anser. Come on try me\n",
      "Bot: Deep learning (also known as deep structured learning) is part of a broader family of machine learning methods based on artificial neural networks with representation learning.\n",
      "Bot: Machine learning is a branch of computer science which deals with system programming in order to automatically learn and improve with experience. For example: Robots are programmed so that they can perform the task based on data they gather from sensors. It automatically learns programs from data.\n",
      "Bot: Hello, thanks for asking\n",
      "Bot: Reinforcement Learning(RL) is a type of machine learning technique that enables an agent to learn in an interactive environment by trial and error using feedback from its own actions and experiences.\n",
      "Bot: Good to see you again\n",
      "Bot: My pleasure\n"
     ]
    }
   ],
   "source": [
    "# buatkan templatge pembicaraan dengan chatbotnya di sini\n",
    "while True:\n",
    "    msg=input(\"You: \")\n",
    "    response=chatbot_response(msg)\n",
    "    if response==-1:\n",
    "        break\n",
    "    print(\"Bot:\",response.strip())\n",
    "    # if response[0]==\"goodbye\" or response[0]==\"thanks\":\n",
    "    #     break"
   ]
  },
  {
   "cell_type": "markdown",
   "metadata": {},
   "source": [
    "#### Flask"
   ]
  },
  {
   "cell_type": "code",
   "execution_count": 31,
   "metadata": {},
   "outputs": [
    {
     "name": "stdout",
     "output_type": "stream",
     "text": [
      " * Serving Flask app '__main__'\n",
      " * Debug mode: off\n"
     ]
    },
    {
     "name": "stderr",
     "output_type": "stream",
     "text": [
      "WARNING: This is a development server. Do not use it in a production deployment. Use a production WSGI server instead.\n",
      " * Running on http://127.0.0.1:5000\n",
      "Press CTRL+C to quit\n",
      "127.0.0.1 - - [31/May/2024 00:20:23] \"GET / HTTP/1.1\" 200 -\n",
      "127.0.0.1 - - [31/May/2024 00:20:23] \"GET /static/style.css HTTP/1.1\" 304 -\n",
      "127.0.0.1 - - [31/May/2024 00:20:23] \"GET /static/Image/BotImg.png HTTP/1.1\" 304 -\n",
      "127.0.0.1 - - [31/May/2024 00:20:25] \"GET /static/Image/UserImg.jpg HTTP/1.1\" 304 -\n",
      "127.0.0.1 - - [31/May/2024 00:20:25] \"POST /query HTTP/1.1\" 200 -\n"
     ]
    },
    {
     "name": "stdout",
     "output_type": "stream",
     "text": [
      "['hi']\n",
      "Result: 0.9999999\n"
     ]
    },
    {
     "name": "stderr",
     "output_type": "stream",
     "text": [
      "127.0.0.1 - - [31/May/2024 00:20:29] \"POST /query HTTP/1.1\" 200 -\n"
     ]
    },
    {
     "name": "stdout",
     "output_type": "stream",
     "text": [
      "['hei']\n",
      "Result: 0.99999976\n"
     ]
    },
    {
     "name": "stderr",
     "output_type": "stream",
     "text": [
      "127.0.0.1 - - [31/May/2024 00:20:30] \"POST /query HTTP/1.1\" 200 -\n"
     ]
    },
    {
     "name": "stdout",
     "output_type": "stream",
     "text": [
      "['hey']\n",
      "Result: 0.9999999\n"
     ]
    },
    {
     "name": "stderr",
     "output_type": "stream",
     "text": [
      "127.0.0.1 - - [31/May/2024 00:20:35] \"POST /query HTTP/1.1\" 200 -\n"
     ]
    },
    {
     "name": "stdout",
     "output_type": "stream",
     "text": [
      "['u']\n",
      "Result: 0.9999999\n"
     ]
    },
    {
     "name": "stderr",
     "output_type": "stream",
     "text": [
      "127.0.0.1 - - [31/May/2024 00:20:41] \"POST /query HTTP/1.1\" 200 -\n"
     ]
    },
    {
     "name": "stdout",
     "output_type": "stream",
     "text": [
      "['u', 'help']\n",
      "Result: 0.9999999\n"
     ]
    },
    {
     "name": "stderr",
     "output_type": "stream",
     "text": [
      "127.0.0.1 - - [31/May/2024 00:20:47] \"POST /query HTTP/1.1\" 200 -\n"
     ]
    },
    {
     "name": "stdout",
     "output_type": "stream",
     "text": [
      "['machine', 'leraning']\n",
      "Result: 0.99916697\n"
     ]
    },
    {
     "name": "stderr",
     "output_type": "stream",
     "text": [
      "127.0.0.1 - - [31/May/2024 00:20:52] \"POST /query HTTP/1.1\" 200 -\n"
     ]
    },
    {
     "name": "stdout",
     "output_type": "stream",
     "text": [
      "['deep', 'leraning']\n",
      "Result: 0.9632643\n"
     ]
    },
    {
     "name": "stderr",
     "output_type": "stream",
     "text": [
      "127.0.0.1 - - [31/May/2024 00:21:03] \"POST /query HTTP/1.1\" 200 -\n"
     ]
    },
    {
     "name": "stdout",
     "output_type": "stream",
     "text": [
      "['woww', 'thanks', 'awesome']\n",
      "Result: 1.0\n"
     ]
    }
   ],
   "source": [
    "# from flask_ngrok import run_with_ngrok\n",
    "from flask import Flask, jsonify, render_template, request\n",
    "\n",
    "app=Flask(__name__)\n",
    "\n",
    "\n",
    "@app.route(\"/\")\n",
    "def hello():\n",
    "    return render_template('chatbot.html')\n",
    "\n",
    "def decrypt(msg):\n",
    "    # input : what+is+deep+learning\n",
    "    # output : what is deep learning\n",
    "    # remove + , replace with space\n",
    "    \n",
    "    string=msg\n",
    "    new_string=string.replace(\"+\",\" \")\n",
    "    \n",
    "    return new_string\n",
    "\n",
    "@app.route(\"/query\",methods=[\"POST\"])\n",
    "def chatbot_query():\n",
    "    sentence=request.form[\"sentence\"]\n",
    "    # decrypt\n",
    "    dec_msg=decrypt(sentence)\n",
    "    \n",
    "    response=chatbot_response(dec_msg)\n",
    "    \n",
    "    # json_response=jsonify({\"top\" : {\"response\":response}})\n",
    "    # print(\"Response:\",response)\n",
    "    return response\n",
    "\n",
    "app.run()"
   ]
  },
  {
   "cell_type": "code",
   "execution_count": null,
   "metadata": {},
   "outputs": [
    {
     "name": "stdout",
     "output_type": "stream",
     "text": [
      "Package                   Version\n",
      "------------------------- ----------\n",
      "anyio                     4.1.0\n",
      "argon2-cffi               23.1.0\n",
      "argon2-cffi-bindings      21.2.0\n",
      "arrow                     1.3.0\n",
      "asttokens                 2.4.1\n",
      "async-lru                 2.0.4\n",
      "attrs                     23.1.0\n",
      "Babel                     2.13.1\n",
      "beautifulsoup4            4.12.2\n",
      "bleach                    6.1.0\n",
      "blinker                   1.7.0\n",
      "certifi                   2021.5.30\n",
      "cffi                      1.16.0\n",
      "chardet                   4.0.0\n",
      "charset-normalizer        3.3.2\n",
      "click                     8.1.7\n",
      "colorama                  0.4.6\n",
      "comm                      0.2.0\n",
      "contourpy                 1.2.0\n",
      "cycler                    0.12.1\n",
      "debugpy                   1.8.0\n",
      "decorator                 5.1.1\n",
      "defusedxml                0.7.1\n",
      "distlib                   0.3.7\n",
      "executing                 2.0.1\n",
      "fastjsonschema            2.19.0\n",
      "filelock                  3.13.1\n",
      "Flask                     3.0.2\n",
      "flask-ngrok               0.0.25\n",
      "fonttools                 4.49.0\n",
      "fqdn                      1.5.1\n",
      "idna                      2.10\n",
      "ipykernel                 6.27.1\n",
      "ipython                   8.18.1\n",
      "isoduration               20.11.0\n",
      "itsdangerous              2.1.2\n",
      "jedi                      0.17.2\n",
      "Jinja2                    3.1.3\n",
      "joblib                    1.3.2\n",
      "json5                     0.9.14\n",
      "jsonpointer               2.4\n",
      "jsonschema                4.20.0\n",
      "jsonschema-specifications 2023.11.1\n",
      "jupyter_client            8.6.0\n",
      "jupyter_core              5.5.0\n",
      "jupyter-events            0.9.0\n",
      "jupyter-lsp               2.2.1\n",
      "jupyter_server            2.11.1\n",
      "jupyter_server_terminals  0.4.4\n",
      "jupyterlab                4.0.9\n",
      "jupyterlab_pygments       0.3.0\n",
      "jupyterlab_server         2.25.2\n",
      "kiwisolver                1.4.5\n",
      "MarkupSafe                2.1.5\n",
      "matplotlib                3.8.3\n",
      "matplotlib-inline         0.1.6\n",
      "mistune                   3.0.2\n",
      "nbclient                  0.9.0\n",
      "nbconvert                 7.11.0\n",
      "nbformat                  5.9.2\n",
      "nest-asyncio              1.5.8\n",
      "nltk                      3.8.1\n",
      "notebook_shim             0.2.3\n",
      "numpy                     1.26.4\n",
      "opencv-python             4.9.0.80\n",
      "overrides                 7.4.0\n",
      "packaging                 23.2\n",
      "pandocfilters             1.5.0\n",
      "parso                     0.7.1\n",
      "Pillow                    10.1.0\n",
      "pip                       23.3.1\n",
      "platformdirs              4.0.0\n",
      "pluggy                    1.4.0\n",
      "prometheus-client         0.19.0\n",
      "prompt-toolkit            3.0.41\n",
      "psutil                    5.9.6\n",
      "pure-eval                 0.2.2\n",
      "pycparser                 2.21\n",
      "Pygments                  2.17.2\n",
      "pyparsing                 3.1.2\n",
      "python-dateutil           2.8.2\n",
      "python-json-logger        2.0.7\n",
      "python-jsonrpc-server     0.4.0\n",
      "python-language-server    0.36.2\n",
      "PyWavelets                1.5.0\n",
      "pywin32                   306\n",
      "pywinpty                  2.0.12\n",
      "PyYAML                    6.0.1\n",
      "pyzmq                     25.1.1\n",
      "referencing               0.31.0\n",
      "regex                     2023.12.25\n",
      "requests                  2.25.1\n",
      "rfc3339-validator         0.1.4\n",
      "rfc3986-validator         0.1.1\n",
      "rpds-py                   0.13.1\n",
      "Send2Trash                1.8.2\n",
      "setuptools                69.0.2\n",
      "six                       1.16.0\n",
      "sniffio                   1.3.0\n",
      "soupsieve                 2.5\n",
      "stack-data                0.6.3\n",
      "terminado                 0.18.0\n",
      "tinycss2                  1.2.1\n",
      "tkdesigner                1.0.3\n",
      "tornado                   6.3.3\n",
      "tqdm                      4.66.2\n",
      "traitlets                 5.14.0\n",
      "types-python-dateutil     2.8.19.14\n",
      "ujson                     5.9.0\n",
      "uri-template              1.3.0\n",
      "urllib3                   1.26.6\n",
      "virtualenv                20.24.7\n",
      "wcwidth                   0.2.12\n",
      "webcolors                 1.13\n",
      "webencodings              0.5.1\n",
      "websocket-client          1.6.4\n",
      "Werkzeug                  3.0.1\n"
     ]
    },
    {
     "name": "stderr",
     "output_type": "stream",
     "text": [
      "\n",
      "[notice] A new release of pip is available: 23.3.1 -> 24.0\n",
      "[notice] To update, run: C:\\Users\\micha\\AppData\\Local\\Programs\\Python\\Python312\\python.exe -m pip install --upgrade pip\n"
     ]
    }
   ],
   "source": [
    "!pip list"
   ]
  },
  {
   "cell_type": "code",
   "execution_count": null,
   "metadata": {},
   "outputs": [],
   "source": []
  }
 ],
 "metadata": {
  "kernelspec": {
   "display_name": "NLPProjectEnv",
   "language": "python",
   "name": "python3"
  },
  "language_info": {
   "codemirror_mode": {
    "name": "ipython",
    "version": 3
   },
   "file_extension": ".py",
   "mimetype": "text/x-python",
   "name": "python",
   "nbconvert_exporter": "python",
   "pygments_lexer": "ipython3",
   "version": "3.10.14"
  }
 },
 "nbformat": 4,
 "nbformat_minor": 2
}
