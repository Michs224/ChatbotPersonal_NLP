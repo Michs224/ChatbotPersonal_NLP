{
 "cells": [
  {
   "cell_type": "code",
   "execution_count": 1,
   "metadata": {},
   "outputs": [],
   "source": [
    "import tensorflow as tf"
   ]
  },
  {
   "cell_type": "code",
   "execution_count": 2,
   "metadata": {},
   "outputs": [
    {
     "data": {
      "text/plain": [
       "[PhysicalDevice(name='/physical_device:GPU:0', device_type='GPU')]"
      ]
     },
     "execution_count": 2,
     "metadata": {},
     "output_type": "execute_result"
    }
   ],
   "source": [
    "tf.config.list_physical_devices('GPU')"
   ]
  },
  {
   "cell_type": "code",
   "execution_count": 3,
   "metadata": {},
   "outputs": [
    {
     "name": "stdout",
     "output_type": "stream",
     "text": [
      "WARNING:tensorflow:From C:\\Users\\micha\\AppData\\Local\\Temp\\ipykernel_28572\\337460670.py:1: is_gpu_available (from tensorflow.python.framework.test_util) is deprecated and will be removed in a future version.\n",
      "Instructions for updating:\n",
      "Use `tf.config.list_physical_devices('GPU')` instead.\n"
     ]
    },
    {
     "data": {
      "text/plain": [
       "True"
      ]
     },
     "execution_count": 3,
     "metadata": {},
     "output_type": "execute_result"
    }
   ],
   "source": [
    "tf.test.is_gpu_available()"
   ]
  },
  {
   "cell_type": "code",
   "execution_count": 4,
   "metadata": {},
   "outputs": [],
   "source": [
    "import string\n",
    "from nltk.corpus import stopwords\n",
    "from nltk.stem import WordNetLemmatizer\n",
    "from nltk.tokenize import word_tokenize\n",
    "from nltk.tag import pos_tag\n",
    "\n",
    "punct = string.punctuation\n",
    "stop_words =stopwords.words('english')\n",
    "lemmatizer = WordNetLemmatizer()"
   ]
  },
  {
   "cell_type": "code",
   "execution_count": 5,
   "metadata": {},
   "outputs": [],
   "source": [
    "# function to clean\n",
    "def remove_punctuation(w_list):\n",
    "    return [word for word in w_list if word not in punct]\n",
    "\n",
    "def remove_stopwords(w_list):\n",
    "    return [word for word in w_list if word not in stop_words]\n",
    "\n",
    "def remove_number(w_list):\n",
    "    return [word for word in w_list if not word.isnumeric()]\n",
    "\n",
    "def get_tag(tag):\n",
    "    if tag.startswith('j'):\n",
    "        return 'a'\n",
    "    elif tag.startswith('v'):\n",
    "        return 'v'\n",
    "    elif tag.startswith('n'):\n",
    "        return 'n'\n",
    "    elif tag.startswith('r'):\n",
    "        return 'r'\n",
    "    else:\n",
    "        return None\n",
    "\n",
    "def lemmatize(w_list):\n",
    "    lemmatized=[]\n",
    "    tagging=pos_tag(w_list)\n",
    "    for word,tag in tagging:\n",
    "        tag=get_tag(tag.lower())\n",
    "        if tag is None:\n",
    "            lemmatized.append(word)\n",
    "        else:\n",
    "            lemmatized.append(lemmatizer.lemmatize(word,tag))\n",
    "    return lemmatized\n"
   ]
  },
  {
   "cell_type": "code",
   "execution_count": 6,
   "metadata": {},
   "outputs": [
    {
     "name": "stdout",
     "output_type": "stream",
     "text": [
      "3281\n"
     ]
    }
   ],
   "source": [
    "import json\n",
    "from nltk.tokenize import word_tokenize\n",
    "from gensim.models import Word2Vec\n",
    "import numpy as np\n",
    "from sklearn.preprocessing import LabelEncoder\n",
    "\n",
    "# Load intents data\n",
    "with open(\"./Dataset/intents.json\", encoding=\"utf-8\") as file:\n",
    "    intents = json.load(file)\n",
    "\n",
    "# Collect unique words from patterns\n",
    "words = []\n",
    "sentences = []\n",
    "for intent in intents[\"intents\"]:\n",
    "    for pattern in intent[\"patterns\"]:\n",
    "        sentence = word_tokenize(pattern.lower())\n",
    "        sentence = remove_stopwords(sentence)\n",
    "        sentence = remove_punctuation(sentence)\n",
    "        sentence = remove_number(sentence)\n",
    "        \n",
    "        words.extend(sentence)\n",
    "        sentences.append(sentence)\n",
    "\n",
    "words = remove_stopwords(words)\n",
    "words = remove_punctuation(words)\n",
    "words = remove_number(words)\n",
    "# words = lemmatize(words)\n",
    "print(len(words))\n",
    "\n",
    "# Train Word2Vec model\n",
    "word2vec_model = Word2Vec(sentences=sentences, vector_size=100, window=2, min_count=1, workers=4)"
   ]
  },
  {
   "cell_type": "code",
   "execution_count": 7,
   "metadata": {},
   "outputs": [],
   "source": [
    "import pickle\n",
    "\n",
    "# Save words\n",
    "with open(\"./Dataset/words_w2v.pkl\", \"wb\") as file:\n",
    "    pickle.dump(words, file)"
   ]
  },
  {
   "cell_type": "code",
   "execution_count": 8,
   "metadata": {},
   "outputs": [],
   "source": [
    "def get_average_doc_vector(sentence, model):\n",
    "    sentence_words = word_tokenize(sentence.lower())\n",
    "    vector_sum = np.zeros(model.vector_size)\n",
    "    num_valid_words = 0\n",
    "    \n",
    "    for word in sentence_words:\n",
    "        if word in model.wv:\n",
    "            vector_sum += model.wv[word]\n",
    "            num_valid_words += 1\n",
    "    \n",
    "    if num_valid_words == 0:\n",
    "        # If there are no valid words in the sentence\n",
    "        return np.zeros(model.vector_size)\n",
    "    else:\n",
    "        # Calculate the average vector\n",
    "        return vector_sum / num_valid_words\n"
   ]
  },
  {
   "cell_type": "code",
   "execution_count": 9,
   "metadata": {},
   "outputs": [
    {
     "name": "stdout",
     "output_type": "stream",
     "text": [
      "X_train: (952, 100)\n",
      "y_train: (952,)\n",
      "(952,) [199 145 139  68   5 151 147 212 101 148 111   0  71 199 169 111  33  69\n",
      "  55 106  54  55  81 171 203  68   4  82 213  51  10 131 114 116  52 227\n",
      " 152 149  71  21 160 150  37  73 216 200  81 240 245  64 218  48 169 229\n",
      " 200 126 159 248 190 108 140 166  44   0 222 200 182 193 170 125 169 178\n",
      " 121 227 213 163   2  61 104 107 187 156 139  68 124  56 221 190  96 139\n",
      " 120  42  41 178  98 237 212 179 204  99   2  56  74 148 197 128 170 176\n",
      "  25  99 146 157 124 138  18 191 111  68 147 198  31 197  32 200  20 106\n",
      " 191  63 112 140 242 242 255 169  49 120 115 190 228  17 109 129  56 191\n",
      " 223  16  48 122 220 175 214 106 200 197  33 118 102  79  93  20  49 205\n",
      " 251   1 100 234   9 200 158  27  96 183  89 238 201  58 244 115 241  25\n",
      "  58 107 138 248 186 204  66  89 121 173  62  76 166  28 192  79 168 109\n",
      "  60 241  72  64  68 186 171  83  75 153  21 124  14 172  39  28  83 169\n",
      "  82  53  92  25 195 192 187 161 123  50 130 124  68 172 168 151 197 198\n",
      " 255  17 251  78  17 113  63 203 126  44  12 175 148 159  54  91  75 136\n",
      " 190  84 162  90  95  45  24  75  23  47  58  80 125 241 159 236 177 197\n",
      "  14 191 197 130  97 221 211  84 122  27 211 222  59 246 247  47  21 197\n",
      " 226 162 140 152 103  18  38  56 197  44 210  43 100 160  34 224  17 174\n",
      " 185 246 209 145 201 116 175 250  46  39 208 144 184  17   2  69 211  16\n",
      " 177 189 197  96 129 215  18 252  44  96 204   6 131  13 155 180 112 110\n",
      " 199  85  58 197 228 203 156 169  12  98 238 240  93  11 167 122 229 169\n",
      " 131  27 116 252 225 197  81 240 143  31 109  46 142 120 109  56 118 223\n",
      "  91 108 167 175  94 206 180 233 127 144  50  29 157 169 141 209 192  80\n",
      " 239  89  94 174 142 228 154 226  79 219  56  61 134  36 114  40  16 183\n",
      " 207 222  55  87  16 108  73  98 205  62 126   4  26  77  72 215 184 118\n",
      " 237 173 197 144 143 103 102 228  83  14 119 247 213 236  46 112  86 112\n",
      " 226  82 156 104 165 168  92 157 141  70  28 232  52 136 109 102 194  59\n",
      " 224 139 232  79  99 229 182  85 195 231  37 199 199  28 161  69 144 171\n",
      "  51  35  54  63  82 242 251 172 136  82 214 169  24 178 124 169  47 153\n",
      "  20 133 119  85  82   9 151 129 235 179 238 176  11  76 206 254 114 201\n",
      " 217  92  34  35 152 127  86 238  68 151 202 170 128  32 163 235   5 126\n",
      "   3 239 183 157 254 132  32 197 179  51 110  75  59   4 169 218  22 225\n",
      "  81  19  16  59 157 253  67 131 220 181  30 157   1 154 255 184 144 121\n",
      " 250 190 236 117 191  44  59   7 111  74 212  71 129  38  85 127 106  12\n",
      " 167 114 209  24  24 124  13 120  85  86 230  88 163  78 125 134 219 145\n",
      "  36 243 240 229 233 189 174 105 164 135 241  45 151  92 253  43 249  92\n",
      "  62 169 202  62 197  95 204 160  24 131 150  38 129 118 117  56  58  23\n",
      " 205  38 131 101 176 241 141  63 197   6 181   8  53  78  88 252   3 199\n",
      " 140  14 180 105 227  16 137 220 169  23 130   5  40 232 127 137 133   8\n",
      "  14  52 122 211 231 230  39 108  61 155  57 205  89 228  97  48 133 254\n",
      " 137 236 197 208 183 115  77  37  33  27 196   9 193 233  10 138  55  88\n",
      "  56  45 152  17 250 128  18 210 147 214 207  17  71 231 172 182 131  85\n",
      "  35 129  68 192  62 158 197 174   6 169  87  64 210  45  66 244 197  24\n",
      "  16  29  42 153 226  31 169 227  52   0 131  22 197  85 107  82 202  30\n",
      " 155 186 191  40  70  22  16  19  42 189  62 185 177  79  28  26 180 175\n",
      "   5 149 146 190 199 115 153  49  88  60 180 237 132   8 164  24 222 242\n",
      "  15 142  58  54  54  57 247 134 101   1  87 194 191 195  44   7 135 243\n",
      "  65 110  10  90 188  61 172  55 124 185  35  54 205 240  14  14 197 166\n",
      "  31  94  41 191 109 123 163  94  63  17   6 215 249   5  65 108 194 110\n",
      "  11 130 243 180  24  93 132  36 180 135 250  29  60  16 114 208  20  79\n",
      " 154  15 181 190  66 216  34  20 115  28 206 180 141 175 103  44  39 117\n",
      " 240  15 239  12 248 143 188 196  34 124  74 169  82 228 245  37  85 179\n",
      " 216  51  77 123  50 159 167 142 253  53 173 117 246 199 168  80 148  96\n",
      "  62  63  15 215 153 200 190 234 167  30 178 223 153 133 193 201]\n"
     ]
    }
   ],
   "source": [
    "# Prepare training data\n",
    "training_data = []\n",
    "\n",
    "for intent in intents[\"intents\"]:\n",
    "    for pattern in intent[\"patterns\"]:\n",
    "        sentence_vector = get_average_doc_vector(pattern, word2vec_model)\n",
    "        class_label = intent[\"tag\"].strip()\n",
    "        training_data.append({\"input\": sentence_vector, \"output\": class_label})\n",
    "            \n",
    "# Shuffle training data\n",
    "np.random.shuffle(training_data)\n",
    "\n",
    "# Prepare X_train and y_train\n",
    "X_train = np.array([data[\"input\"] for data in training_data])\n",
    "y_train = np.array([data[\"output\"] for data in training_data])\n",
    "print(\"X_train:\", X_train.shape)\n",
    "print(\"y_train:\", y_train.shape)\n",
    "\n",
    "# Convert y_train to one-hot encoding\n",
    "label_encoder = LabelEncoder()\n",
    "y_train_encoded = label_encoder.fit_transform(y_train)\n",
    "print(y_train_encoded.shape,y_train_encoded)\n"
   ]
  },
  {
   "cell_type": "code",
   "execution_count": 10,
   "metadata": {},
   "outputs": [],
   "source": [
    "with open(\"label_encoder_w2v.pkl\", \"wb\") as file:\n",
    "    pickle.dump(label_encoder, file)"
   ]
  },
  {
   "cell_type": "code",
   "execution_count": 11,
   "metadata": {},
   "outputs": [
    {
     "name": "stdout",
     "output_type": "stream",
     "text": [
      "(952, 256)\n",
      "199 [0. 0. 0. 0. 0. 0. 0. 0. 0. 0. 0. 0. 0. 0. 0. 0. 0. 0. 0. 0. 0. 0. 0. 0.\n",
      " 0. 0. 0. 0. 0. 0. 0. 0. 0. 0. 0. 0. 0. 0. 0. 0. 0. 0. 0. 0. 0. 0. 0. 0.\n",
      " 0. 0. 0. 0. 0. 0. 0. 0. 0. 0. 0. 0. 0. 0. 0. 0. 0. 0. 0. 0. 0. 0. 0. 0.\n",
      " 0. 0. 0. 0. 0. 0. 0. 0. 0. 0. 0. 0. 0. 0. 0. 0. 0. 0. 0. 0. 0. 0. 0. 0.\n",
      " 0. 0. 0. 0. 0. 0. 0. 0. 0. 0. 0. 0. 0. 0. 0. 0. 0. 0. 0. 0. 0. 0. 0. 0.\n",
      " 0. 0. 0. 0. 0. 0. 0. 0. 0. 0. 0. 0. 0. 0. 0. 0. 0. 0. 0. 0. 0. 0. 0. 0.\n",
      " 0. 0. 0. 0. 0. 0. 0. 0. 0. 0. 0. 0. 0. 0. 0. 0. 0. 0. 0. 0. 0. 0. 0. 0.\n",
      " 0. 0. 0. 0. 0. 0. 0. 0. 0. 0. 0. 0. 0. 0. 0. 0. 0. 0. 0. 0. 0. 0. 0. 0.\n",
      " 0. 0. 0. 0. 0. 0. 0. 1. 0. 0. 0. 0. 0. 0. 0. 0. 0. 0. 0. 0. 0. 0. 0. 0.\n",
      " 0. 0. 0. 0. 0. 0. 0. 0. 0. 0. 0. 0. 0. 0. 0. 0. 0. 0. 0. 0. 0. 0. 0. 0.\n",
      " 0. 0. 0. 0. 0. 0. 0. 0. 0. 0. 0. 0. 0. 0. 0. 0.] 199\n",
      "1\n"
     ]
    }
   ],
   "source": [
    "num_classes = len(label_encoder.classes_)\n",
    "y_train_one_hot = tf.keras.utils.to_categorical(y_train_encoded, num_classes)\n",
    "\n",
    "print(y_train_one_hot.shape)\n",
    "\n",
    "count=0\n",
    "for i in range(y_train_one_hot.shape[0]):\n",
    "    for j in range(y_train_one_hot.shape[1]):\n",
    "        if y_train_one_hot[i][j] == 1:\n",
    "            print(j,y_train_one_hot[i], y_train_encoded[i])\n",
    "            count+=1\n",
    "    if count<=2:\n",
    "            break\n",
    "print(count)"
   ]
  },
  {
   "cell_type": "code",
   "execution_count": 12,
   "metadata": {},
   "outputs": [
    {
     "data": {
      "text/plain": [
       "76"
      ]
     },
     "execution_count": 12,
     "metadata": {},
     "output_type": "execute_result"
    }
   ],
   "source": [
    "y_train_encoded[191]"
   ]
  },
  {
   "cell_type": "code",
   "execution_count": 13,
   "metadata": {},
   "outputs": [
    {
     "data": {
      "text/plain": [
       "array(['Sampling'], dtype='<U66')"
      ]
     },
     "execution_count": 13,
     "metadata": {},
     "output_type": "execute_result"
    }
   ],
   "source": [
    "label_encoder.inverse_transform([y_train_encoded[191]])"
   ]
  },
  {
   "cell_type": "code",
   "execution_count": 14,
   "metadata": {},
   "outputs": [
    {
     "data": {
      "image/png": "[encoded data removed]",
      "text/plain": [
       "<IPython.core.display.Image object>"
      ]
     },
     "execution_count": 14,
     "metadata": {},
     "output_type": "execute_result"
    }
   ],
   "source": [
    "from keras.models import Sequential\n",
    "from keras.layers import LSTM, Dense, Dropout, BatchNormalization\n",
    "from keras.optimizers import Adam\n",
    "from keras.callbacks import EarlyStopping\n",
    "from keras.utils.vis_utils import plot_model\n",
    "\n",
    "# Creating the model\n",
    "model = Sequential([\n",
    "    LSTM(256, input_shape=(None, X_train.shape[1]), return_sequences=True),\n",
    "    Dropout(0.2),\n",
    "    BatchNormalization(),\n",
    "    LSTM(128),\n",
    "    Dense(128, activation='relu'),\n",
    "    Dropout(0.2),\n",
    "    BatchNormalization(),\n",
    "    Dense(num_classes, activation='softmax')\n",
    "])\n",
    "\n",
    "# adam = Adam(learning_rate=0.005)\n",
    "model.compile(optimizer=\"adam\", loss='categorical_crossentropy', metrics=['accuracy'])\n",
    "plot_model(model,show_shapes=True,show_layer_names=True)"
   ]
  },
  {
   "cell_type": "code",
   "execution_count": 15,
   "metadata": {},
   "outputs": [
    {
     "name": "stdout",
     "output_type": "stream",
     "text": [
      "(952, 100)\n",
      "Epoch 1/150\n",
      "60/60 [==============================] - 115s 107ms/step - loss: 5.5183 - accuracy: 0.0273\n",
      "Epoch 2/150\n",
      "60/60 [==============================] - 6s 94ms/step - loss: 5.2831 - accuracy: 0.0735\n",
      "Epoch 3/150\n",
      "60/60 [==============================] - 0s 8ms/step - loss: 4.7501 - accuracy: 0.1313\n",
      "Epoch 4/150\n",
      "60/60 [==============================] - 9s 147ms/step - loss: 4.0905 - accuracy: 0.2017\n",
      "Epoch 5/150\n",
      "60/60 [==============================] - 5s 88ms/step - loss: 3.4639 - accuracy: 0.2931\n",
      "Epoch 6/150\n",
      "60/60 [==============================] - 0s 8ms/step - loss: 2.9222 - accuracy: 0.3929\n",
      "Epoch 7/150\n",
      "60/60 [==============================] - 5s 83ms/step - loss: 2.4235 - accuracy: 0.5021\n",
      "Epoch 8/150\n",
      "60/60 [==============================] - 0s 8ms/step - loss: 2.0692 - accuracy: 0.5651\n",
      "Epoch 9/150\n",
      "60/60 [==============================] - 6s 103ms/step - loss: 1.7205 - accuracy: 0.6513\n",
      "Epoch 10/150\n",
      "60/60 [==============================] - 5s 85ms/step - loss: 1.4528 - accuracy: 0.7195\n",
      "Epoch 11/150\n",
      "60/60 [==============================] - 1s 10ms/step - loss: 1.2684 - accuracy: 0.7553\n",
      "Epoch 12/150\n",
      "60/60 [==============================] - 6s 109ms/step - loss: 1.0898 - accuracy: 0.7910\n",
      "Epoch 13/150\n",
      "60/60 [==============================] - 1s 10ms/step - loss: 0.9015 - accuracy: 0.8382\n",
      "Epoch 14/150\n",
      "60/60 [==============================] - 7s 112ms/step - loss: 0.7540 - accuracy: 0.8771\n",
      "Epoch 15/150\n",
      "60/60 [==============================] - 1s 9ms/step - loss: 0.6659 - accuracy: 0.8824\n",
      "Epoch 16/150\n",
      "60/60 [==============================] - 6s 102ms/step - loss: 0.6090 - accuracy: 0.8971\n",
      "Epoch 17/150\n",
      "60/60 [==============================] - 6s 100ms/step - loss: 0.5744 - accuracy: 0.8897\n",
      "Epoch 18/150\n",
      "60/60 [==============================] - 0s 8ms/step - loss: 0.5143 - accuracy: 0.8908\n",
      "Epoch 19/150\n",
      "60/60 [==============================] - 5s 90ms/step - loss: 0.4290 - accuracy: 0.9170\n",
      "Epoch 20/150\n",
      "60/60 [==============================] - 1s 11ms/step - loss: 0.4132 - accuracy: 0.9296\n",
      "Epoch 21/150\n",
      "60/60 [==============================] - 8s 141ms/step - loss: 0.3963 - accuracy: 0.9223\n",
      "Epoch 22/150\n",
      "60/60 [==============================] - 1s 8ms/step - loss: 0.3551 - accuracy: 0.9254\n",
      "Epoch 23/150\n",
      "60/60 [==============================] - 6s 93ms/step - loss: 0.3489 - accuracy: 0.9254\n",
      "Epoch 24/150\n",
      "60/60 [==============================] - 1s 9ms/step - loss: 0.3318 - accuracy: 0.9401\n",
      "Epoch 25/150\n",
      "60/60 [==============================] - 6s 94ms/step - loss: 0.2972 - accuracy: 0.9391\n",
      "Epoch 26/150\n",
      "60/60 [==============================] - 1s 9ms/step - loss: 0.3006 - accuracy: 0.9349\n",
      "Epoch 27/150\n",
      "60/60 [==============================] - 5s 84ms/step - loss: 0.2982 - accuracy: 0.9370\n",
      "Epoch 28/150\n",
      "60/60 [==============================] - 5s 88ms/step - loss: 0.2906 - accuracy: 0.9380\n",
      "Epoch 29/150\n",
      "60/60 [==============================] - 0s 8ms/step - loss: 0.2352 - accuracy: 0.9443\n",
      "Epoch 30/150\n",
      "60/60 [==============================] - 6s 95ms/step - loss: 0.2668 - accuracy: 0.9370\n",
      "Epoch 31/150\n",
      "60/60 [==============================] - 1s 10ms/step - loss: 0.1990 - accuracy: 0.9590\n",
      "Epoch 32/150\n",
      "60/60 [==============================] - 6s 103ms/step - loss: 0.2109 - accuracy: 0.9580\n",
      "Epoch 33/150\n",
      "60/60 [==============================] - 1s 8ms/step - loss: 0.2213 - accuracy: 0.9527\n",
      "Epoch 34/150\n",
      "60/60 [==============================] - 7s 124ms/step - loss: 0.1943 - accuracy: 0.9643\n",
      "Epoch 35/150\n",
      "60/60 [==============================] - 1s 9ms/step - loss: 0.2124 - accuracy: 0.9464\n",
      "Epoch 36/150\n",
      "60/60 [==============================] - 8s 127ms/step - loss: 0.2027 - accuracy: 0.9559\n",
      "Epoch 37/150\n",
      "60/60 [==============================] - 1s 9ms/step - loss: 0.1750 - accuracy: 0.9674\n",
      "Epoch 38/150\n",
      "60/60 [==============================] - 10s 169ms/step - loss: 0.1820 - accuracy: 0.9559\n",
      "Epoch 39/150\n",
      "60/60 [==============================] - 1s 10ms/step - loss: 0.1866 - accuracy: 0.9569\n",
      "Epoch 40/150\n",
      "60/60 [==============================] - 1s 12ms/step - loss: 0.1753 - accuracy: 0.9580\n",
      "Epoch 41/150\n",
      "60/60 [==============================] - 7s 114ms/step - loss: 0.1706 - accuracy: 0.9590\n",
      "Epoch 42/150\n",
      "60/60 [==============================] - 1s 9ms/step - loss: 0.1798 - accuracy: 0.9527\n",
      "Epoch 43/150\n",
      "60/60 [==============================] - 5s 9ms/step - loss: 0.1486 - accuracy: 0.9664\n",
      "Epoch 44/150\n",
      "60/60 [==============================] - 6s 93ms/step - loss: 0.1396 - accuracy: 0.9706\n",
      "Epoch 45/150\n",
      "60/60 [==============================] - 1s 9ms/step - loss: 0.1669 - accuracy: 0.9538\n",
      "Epoch 46/150\n",
      "60/60 [==============================] - 5s 89ms/step - loss: 0.1496 - accuracy: 0.9653\n",
      "Epoch 47/150\n",
      "60/60 [==============================] - 1s 10ms/step - loss: 0.1573 - accuracy: 0.9674\n",
      "Epoch 48/150\n",
      "60/60 [==============================] - 6s 94ms/step - loss: 0.1500 - accuracy: 0.9601\n",
      "Epoch 49/150\n",
      "60/60 [==============================] - 1s 9ms/step - loss: 0.1649 - accuracy: 0.9548\n",
      "Epoch 50/150\n",
      "60/60 [==============================] - 5s 90ms/step - loss: 0.1577 - accuracy: 0.9569\n",
      "Epoch 51/150\n",
      "60/60 [==============================] - 1s 8ms/step - loss: 0.1710 - accuracy: 0.9601\n",
      "Epoch 52/150\n",
      "60/60 [==============================] - 5s 92ms/step - loss: 0.1654 - accuracy: 0.9538\n",
      "Epoch 53/150\n",
      "60/60 [==============================] - 5s 88ms/step - loss: 0.1242 - accuracy: 0.9685\n",
      "Epoch 54/150\n",
      "60/60 [==============================] - 1s 9ms/step - loss: 0.1184 - accuracy: 0.9706\n",
      "Epoch 55/150\n",
      "60/60 [==============================] - 5s 86ms/step - loss: 0.1365 - accuracy: 0.9632\n",
      "Epoch 56/150\n",
      "60/60 [==============================] - 1s 10ms/step - loss: 0.1487 - accuracy: 0.9559\n",
      "Epoch 57/150\n",
      "60/60 [==============================] - 7s 115ms/step - loss: 0.1703 - accuracy: 0.9538\n",
      "Epoch 58/150\n",
      "60/60 [==============================] - 1s 8ms/step - loss: 0.1486 - accuracy: 0.9569\n",
      "Epoch 59/150\n",
      "60/60 [==============================] - 5s 80ms/step - loss: 0.1548 - accuracy: 0.9559\n",
      "Epoch 60/150\n",
      "60/60 [==============================] - 1s 9ms/step - loss: 0.1606 - accuracy: 0.9548\n",
      "Epoch 61/150\n",
      "60/60 [==============================] - 6s 98ms/step - loss: 0.1232 - accuracy: 0.9632\n",
      "Epoch 62/150\n",
      "60/60 [==============================] - 1s 10ms/step - loss: 0.1235 - accuracy: 0.9674\n",
      "Epoch 63/150\n",
      "60/60 [==============================] - 6s 98ms/step - loss: 0.1393 - accuracy: 0.9643\n",
      "Epoch 64/150\n",
      "60/60 [==============================] - 1s 10ms/step - loss: 0.1163 - accuracy: 0.9653\n",
      "Epoch 65/150\n",
      "60/60 [==============================] - 5s 86ms/step - loss: 0.1208 - accuracy: 0.9569\n",
      "Epoch 66/150\n",
      "60/60 [==============================] - 6s 98ms/step - loss: 0.1268 - accuracy: 0.9622\n",
      "Epoch 67/150\n",
      "60/60 [==============================] - 1s 10ms/step - loss: 0.1410 - accuracy: 0.9611\n",
      "Epoch 68/150\n",
      "60/60 [==============================] - 6s 102ms/step - loss: 0.1328 - accuracy: 0.9685\n",
      "Epoch 69/150\n",
      "60/60 [==============================] - 1s 9ms/step - loss: 0.1301 - accuracy: 0.9580\n",
      "Epoch 70/150\n",
      "60/60 [==============================] - 5s 93ms/step - loss: 0.1251 - accuracy: 0.9664\n",
      "Epoch 71/150\n",
      "60/60 [==============================] - 0s 8ms/step - loss: 0.1241 - accuracy: 0.9601\n",
      "Epoch 72/150\n",
      "60/60 [==============================] - 6s 94ms/step - loss: 0.1371 - accuracy: 0.9569\n",
      "Epoch 73/150\n",
      "60/60 [==============================] - 0s 8ms/step - loss: 0.1180 - accuracy: 0.9674\n",
      "Epoch 74/150\n",
      "60/60 [==============================] - 6s 97ms/step - loss: 0.1348 - accuracy: 0.9559\n",
      "Epoch 75/150\n",
      "60/60 [==============================] - 8s 128ms/step - loss: 0.1425 - accuracy: 0.9506\n",
      "Epoch 76/150\n",
      "60/60 [==============================] - 6s 101ms/step - loss: 0.1338 - accuracy: 0.9580\n",
      "Epoch 77/150\n",
      "60/60 [==============================] - 1s 9ms/step - loss: 0.1199 - accuracy: 0.9580\n",
      "Epoch 78/150\n",
      "60/60 [==============================] - 6s 101ms/step - loss: 0.1230 - accuracy: 0.9611\n",
      "Epoch 79/150\n",
      "58/60 [============================>.] - ETA: 0s - loss: 0.1269 - accuracy: 0.9634Restoring model weights from the end of the best epoch: 64.\n",
      "60/60 [==============================] - 5s 89ms/step - loss: 0.1320 - accuracy: 0.9622\n",
      "Epoch 79: early stopping\n"
     ]
    }
   ],
   "source": [
    "print(X_train.shape)\n",
    "# Reshape X_train to match the input shape\n",
    "X_train_reshaped = X_train.reshape(X_train.shape[0], 1, X_train.shape[1])\n",
    "\n",
    "early_stopping = EarlyStopping(monitor='loss', patience=15, restore_best_weights=True, verbose=1)\n",
    "\n",
    "# Train the model\n",
    "history = model.fit(X_train_reshaped, y_train_one_hot, epochs=150, batch_size=16, verbose=1, callbacks=early_stopping)\n",
    "\n",
    "# Save the trained Word2Vec model and chatbot model\n",
    "word2vec_model.save(\"./Model/word2vec_model.Models\")\n",
    "model.save(\"./Model/Model_Chatbot_Personal_W2V_LSTM.h5\")"
   ]
  },
  {
   "cell_type": "code",
   "execution_count": null,
   "metadata": {},
   "outputs": [],
   "source": []
  },
  {
   "cell_type": "code",
   "execution_count": null,
   "metadata": {},
   "outputs": [],
   "source": []
  }
 ],
 "metadata": {
  "kernelspec": {
   "display_name": "NLPProject",
   "language": "python",
   "name": "python3"
  },
  "language_info": {
   "codemirror_mode": {
    "name": "ipython",
    "version": 3
   },
   "file_extension": ".py",
   "mimetype": "text/x-python",
   "name": "python",
   "nbconvert_exporter": "python",
   "pygments_lexer": "ipython3",
   "version": "3.10.14"
  }
 },
 "nbformat": 4,
 "nbformat_minor": 2
}
